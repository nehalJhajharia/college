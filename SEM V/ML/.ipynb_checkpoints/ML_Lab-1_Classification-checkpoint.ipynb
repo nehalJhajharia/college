{
 "cells": [
  {
   "cell_type": "code",
   "execution_count": 23,
   "id": "25ba89b7",
   "metadata": {},
   "outputs": [],
   "source": [
    "import pandas as pd\n",
    "import numpy as np\n",
    "import matplotlib.pyplot as plt\n",
    "import seaborn as sns"
   ]
  },
  {
   "cell_type": "code",
   "execution_count": 24,
   "id": "8466e370",
   "metadata": {},
   "outputs": [
    {
     "data": {
      "text/html": [
       "<div>\n",
       "<style scoped>\n",
       "    .dataframe tbody tr th:only-of-type {\n",
       "        vertical-align: middle;\n",
       "    }\n",
       "\n",
       "    .dataframe tbody tr th {\n",
       "        vertical-align: top;\n",
       "    }\n",
       "\n",
       "    .dataframe thead th {\n",
       "        text-align: right;\n",
       "    }\n",
       "</style>\n",
       "<table border=\"1\" class=\"dataframe\">\n",
       "  <thead>\n",
       "    <tr style=\"text-align: right;\">\n",
       "      <th></th>\n",
       "      <th>Pregnancies</th>\n",
       "      <th>Glucose</th>\n",
       "      <th>BloodPressure</th>\n",
       "      <th>SkinThickness</th>\n",
       "      <th>Insulin</th>\n",
       "      <th>BMI</th>\n",
       "      <th>DiabetesPedigreeFunction</th>\n",
       "      <th>Age</th>\n",
       "      <th>Outcome</th>\n",
       "    </tr>\n",
       "  </thead>\n",
       "  <tbody>\n",
       "    <tr>\n",
       "      <th>0</th>\n",
       "      <td>6</td>\n",
       "      <td>148.0</td>\n",
       "      <td>72.0</td>\n",
       "      <td>35</td>\n",
       "      <td>0</td>\n",
       "      <td>33.6</td>\n",
       "      <td>0.627</td>\n",
       "      <td>50.0</td>\n",
       "      <td>1</td>\n",
       "    </tr>\n",
       "    <tr>\n",
       "      <th>1</th>\n",
       "      <td>1</td>\n",
       "      <td>85.0</td>\n",
       "      <td>66.0</td>\n",
       "      <td>29</td>\n",
       "      <td>0</td>\n",
       "      <td>26.6</td>\n",
       "      <td>0.351</td>\n",
       "      <td>31.0</td>\n",
       "      <td>0</td>\n",
       "    </tr>\n",
       "    <tr>\n",
       "      <th>2</th>\n",
       "      <td>8</td>\n",
       "      <td>183.0</td>\n",
       "      <td>64.0</td>\n",
       "      <td>0</td>\n",
       "      <td>0</td>\n",
       "      <td>23.3</td>\n",
       "      <td>0.672</td>\n",
       "      <td>32.0</td>\n",
       "      <td>1</td>\n",
       "    </tr>\n",
       "    <tr>\n",
       "      <th>3</th>\n",
       "      <td>1</td>\n",
       "      <td>89.0</td>\n",
       "      <td>66.0</td>\n",
       "      <td>23</td>\n",
       "      <td>94</td>\n",
       "      <td>28.1</td>\n",
       "      <td>0.167</td>\n",
       "      <td>21.0</td>\n",
       "      <td>0</td>\n",
       "    </tr>\n",
       "    <tr>\n",
       "      <th>4</th>\n",
       "      <td>0</td>\n",
       "      <td>137.0</td>\n",
       "      <td>40.0</td>\n",
       "      <td>35</td>\n",
       "      <td>168</td>\n",
       "      <td>43.1</td>\n",
       "      <td>2.288</td>\n",
       "      <td>33.0</td>\n",
       "      <td>1</td>\n",
       "    </tr>\n",
       "  </tbody>\n",
       "</table>\n",
       "</div>"
      ],
      "text/plain": [
       "   Pregnancies  Glucose  BloodPressure  SkinThickness  Insulin   BMI  \\\n",
       "0            6    148.0           72.0             35        0  33.6   \n",
       "1            1     85.0           66.0             29        0  26.6   \n",
       "2            8    183.0           64.0              0        0  23.3   \n",
       "3            1     89.0           66.0             23       94  28.1   \n",
       "4            0    137.0           40.0             35      168  43.1   \n",
       "\n",
       "   DiabetesPedigreeFunction   Age  Outcome  \n",
       "0                     0.627  50.0        1  \n",
       "1                     0.351  31.0        0  \n",
       "2                     0.672  32.0        1  \n",
       "3                     0.167  21.0        0  \n",
       "4                     2.288  33.0        1  "
      ]
     },
     "execution_count": 24,
     "metadata": {},
     "output_type": "execute_result"
    }
   ],
   "source": [
    "#importing dataset\n",
    "df = pd.read_csv('Diabetes data.csv')\n",
    "df.head()"
   ]
  },
  {
   "cell_type": "code",
   "execution_count": 25,
   "id": "0768901b",
   "metadata": {},
   "outputs": [
    {
     "data": {
      "text/plain": [
       "Pregnancies                   int64\n",
       "Glucose                     float64\n",
       "BloodPressure               float64\n",
       "SkinThickness                 int64\n",
       "Insulin                       int64\n",
       "BMI                         float64\n",
       "DiabetesPedigreeFunction    float64\n",
       "Age                         float64\n",
       "Outcome                       int64\n",
       "dtype: object"
      ]
     },
     "execution_count": 25,
     "metadata": {},
     "output_type": "execute_result"
    }
   ],
   "source": [
    "df.dtypes"
   ]
  },
  {
   "cell_type": "code",
   "execution_count": 26,
   "id": "cfeca813",
   "metadata": {},
   "outputs": [
    {
     "name": "stdout",
     "output_type": "stream",
     "text": [
      "<class 'pandas.core.frame.DataFrame'>\n",
      "RangeIndex: 768 entries, 0 to 767\n",
      "Data columns (total 9 columns):\n",
      " #   Column                    Non-Null Count  Dtype  \n",
      "---  ------                    --------------  -----  \n",
      " 0   Pregnancies               768 non-null    int64  \n",
      " 1   Glucose                   766 non-null    float64\n",
      " 2   BloodPressure             767 non-null    float64\n",
      " 3   SkinThickness             768 non-null    int64  \n",
      " 4   Insulin                   768 non-null    int64  \n",
      " 5   BMI                       768 non-null    float64\n",
      " 6   DiabetesPedigreeFunction  767 non-null    float64\n",
      " 7   Age                       767 non-null    float64\n",
      " 8   Outcome                   768 non-null    int64  \n",
      "dtypes: float64(5), int64(4)\n",
      "memory usage: 54.1 KB\n"
     ]
    }
   ],
   "source": [
    "df.info()"
   ]
  },
  {
   "cell_type": "code",
   "execution_count": 27,
   "id": "4e1a7ae9",
   "metadata": {},
   "outputs": [],
   "source": [
    "df[['Glucose','BloodPressure','SkinThickness','Insulin','BMI']] = df[['Glucose','BloodPressure','SkinThickness','Insulin','BMI']].replace(0,np.NaN)\n"
   ]
  },
  {
   "cell_type": "markdown",
   "id": "8d8d257b",
   "metadata": {},
   "source": [
    "# Checking Missing Values"
   ]
  },
  {
   "cell_type": "code",
   "execution_count": 28,
   "id": "d64596d7",
   "metadata": {},
   "outputs": [
    {
     "name": "stdout",
     "output_type": "stream",
     "text": [
      "Column\t\t\t\t Total missing Values\t\t\t\t % of missing values\n",
      "Pregnancies                                       0                              0.00\n",
      "Glucose                                           7                              0.91\n",
      "BloodPressure                                     36                             4.69\n",
      "SkinThickness                                     227                            29.56\n",
      "Insulin                                           374                            48.70\n",
      "BMI                                               11                             1.43\n",
      "DiabetesPedigreeFunction                          1                              0.13\n",
      "Age                                               1                              0.13\n",
      "Outcome                                           0                              0.00\n"
     ]
    }
   ],
   "source": [
    "# making a list of columns with total number of missing values\n",
    "print('Column'+ '\\t\\t\\t\\t Total missing Values'+'\\t\\t\\t\\t % of missing values')\n",
    "#print(\"\\n\")\n",
    "for i in df.columns:\n",
    "    print(f\"{i: <50}{df[i].isnull().sum():<30}{((df[i].isnull().sum())*100)/df.shape[0]: .2f}\")"
   ]
  },
  {
   "cell_type": "code",
   "execution_count": 29,
   "id": "16212c83",
   "metadata": {},
   "outputs": [],
   "source": [
    "df['Glucose'].fillna(df['Glucose'].mean(), inplace=True)\n",
    "df['BloodPressure'].fillna(df['BloodPressure'].mean(), inplace=True)\n",
    "df['SkinThickness'].fillna(df['SkinThickness'].mean(), inplace=True)\n",
    "df['Insulin'].fillna(df['Insulin'].mean(), inplace=True)\n",
    "df['BMI'].fillna(df['BMI'].mean(), inplace=True)\n",
    "df['DiabetesPedigreeFunction'].fillna(df['DiabetesPedigreeFunction'].mean(), inplace=True)\n",
    "df['Age'].fillna(df['Age'].mean(), inplace=True)"
   ]
  },
  {
   "cell_type": "code",
   "execution_count": 30,
   "id": "bfb48d17",
   "metadata": {},
   "outputs": [
    {
     "name": "stdout",
     "output_type": "stream",
     "text": [
      "Column\t\t\t\t Total missing Values\t\t\t\t % of missing values\n",
      "Pregnancies                                       0                              0.00\n",
      "Glucose                                           0                              0.00\n",
      "BloodPressure                                     0                              0.00\n",
      "SkinThickness                                     0                              0.00\n",
      "Insulin                                           0                              0.00\n",
      "BMI                                               0                              0.00\n",
      "DiabetesPedigreeFunction                          0                              0.00\n",
      "Age                                               0                              0.00\n",
      "Outcome                                           0                              0.00\n"
     ]
    }
   ],
   "source": [
    "# making a list of columns with total number of missing values\n",
    "print('Column'+ '\\t\\t\\t\\t Total missing Values'+'\\t\\t\\t\\t % of missing values')\n",
    "#print(\"\\n\")\n",
    "for i in df.columns:\n",
    "    print(f\"{i: <50}{df[i].isnull().sum():<30}{((df[i].isnull().sum())*100)/df.shape[0]: .2f}\")"
   ]
  },
  {
   "cell_type": "code",
   "execution_count": 53,
   "id": "7c34c574",
   "metadata": {},
   "outputs": [
    {
     "data": {
      "text/plain": [
       "<AxesSubplot:xlabel='Outcome', ylabel='count'>"
      ]
     },
     "execution_count": 53,
     "metadata": {},
     "output_type": "execute_result"
    },
    {
     "data": {
      "image/png": "[encoded data removed]",
      "text/plain": [
       "<Figure size 432x288 with 1 Axes>"
      ]
     },
     "metadata": {
      "needs_background": "light"
     },
     "output_type": "display_data"
    }
   ],
   "source": [
    "sns.countplot(x=\"Outcome\", data=df)"
   ]
  },
  {
   "cell_type": "code",
   "execution_count": 35,
   "id": "d431a26f",
   "metadata": {},
   "outputs": [],
   "source": [
    "X=df.drop('Outcome',axis=1)\n",
    "y=df['Outcome']\n"
   ]
  },
  {
   "cell_type": "markdown",
   "id": "d9e39ced",
   "metadata": {},
   "source": [
    "# Spliting the Dataset into Training and Testing Date"
   ]
  },
  {
   "cell_type": "code",
   "execution_count": 36,
   "id": "fecae65d",
   "metadata": {},
   "outputs": [],
   "source": [
    "from sklearn.model_selection import train_test_split\n",
    "X_train, X_test, y_train, y_test = train_test_split(X, y,test_size=0.2,random_state=0)"
   ]
  },
  {
   "cell_type": "code",
   "execution_count": 37,
   "id": "884228ae",
   "metadata": {},
   "outputs": [],
   "source": [
    "from sklearn.preprocessing import StandardScaler\n",
    "scaling_x=StandardScaler()\n",
    "X_train=scaling_x.fit_transform(X_train)\n",
    "X_test=scaling_x.transform(X_test)\n"
   ]
  },
  {
   "cell_type": "markdown",
   "id": "9dbdbe77",
   "metadata": {},
   "source": [
    "# Training and Evaluating Model"
   ]
  },
  {
   "cell_type": "code",
   "execution_count": 49,
   "id": "158d7068",
   "metadata": {},
   "outputs": [],
   "source": [
    "from sklearn.metrics import accuracy_score, f1_score, classification_report, confusion_matrix\n",
    "\n",
    "def evaluation(model, x_train_std, y_train, x_test, y_test, train = True):\n",
    "    \"\"\"\n",
    "    A function that returns the score of every evaluation metrics\n",
    "    \"\"\"\n",
    "    if train == True:\n",
    "        pred = model.predict(x_train_std)\n",
    "        classifier_report = pd.DataFrame(classification_report(y_train, pred, output_dict = True))\n",
    "        print(\"Train Result:\\n================================================\")\n",
    "        print(f\"Accuracy Score: {accuracy_score(y_train, pred) * 100:.2f}%\")\n",
    "        print(\"_______________________________________________\")\n",
    "        print(f\"F1 Score: {round(f1_score(y_train, pred), 2)}\")\n",
    "        print(\"_______________________________________________\")\n",
    "        print(f\"CLASSIFICATION REPORT:\\n{classifier_report}\")\n",
    "        print(\"_______________________________________________\")\n",
    "        print(f\"Confusion Matrix: \\n {confusion_matrix(y_train, pred)}\\n\")\n",
    "        \n",
    "    if train == False:\n",
    "        pred = model.predict(x_test)\n",
    "        classifier_report = pd.DataFrame(classification_report(y_test, pred, output_dict = True))\n",
    "        print(\"Test Result:\\n================================================\")\n",
    "        print(f\"Accuracy Score: {accuracy_score(y_test, pred) * 100:.2f}%\")\n",
    "        print(\"_______________________________________________\")\n",
    "        print(f\"F1 Score: {round(f1_score(y_test, pred), 2)}\")\n",
    "        print(\"_______________________________________________\")\n",
    "        print(f\"CLASSIFICATION REPORT:\\n{classifier_report}\")\n",
    "        print(\"_______________________________________________\")\n",
    "        print(f\"Confusion Matrix: \\n {confusion_matrix(y_test, pred)}\\n\")"
   ]
  },
  {
   "cell_type": "markdown",
   "id": "377fb030",
   "metadata": {},
   "source": [
    "# RandomForest Classifier"
   ]
  },
  {
   "cell_type": "code",
   "execution_count": 59,
   "id": "f04e5968",
   "metadata": {},
   "outputs": [
    {
     "data": {
      "text/plain": [
       "[<matplotlib.lines.Line2D at 0x7f5900fb4280>]"
      ]
     },
     "execution_count": 59,
     "metadata": {},
     "output_type": "execute_result"
    },
    {
     "data": {
      "image/png": "[encoded data removed]",
      "text/plain": [
       "<Figure size 432x288 with 1 Axes>"
      ]
     },
     "metadata": {
      "needs_background": "light"
     },
     "output_type": "display_data"
    }
   ],
   "source": [
    "from sklearn.ensemble import RandomForestClassifier\n",
    "## Finding out the right number of estimators\n",
    "accuracy_scores = []\n",
    "for i in range(1, 1000, 100):\n",
    "    rfc = RandomForestClassifier(n_estimators = i, random_state = 0)\n",
    "    rfc.fit(X_train, y_train)\n",
    "    accuracy_scores.append(accuracy_score(y_test, rfc.predict(X_test)))\n",
    "plt.plot(accuracy_scores)"
   ]
  },
  {
   "cell_type": "code",
   "execution_count": 55,
   "id": "5391b695",
   "metadata": {},
   "outputs": [
    {
     "name": "stdout",
     "output_type": "stream",
     "text": [
      "Train Result:\n",
      "================================================\n",
      "Accuracy Score: 100.00%\n",
      "_______________________________________________\n",
      "F1 Score: 1.0\n",
      "_______________________________________________\n",
      "CLASSIFICATION REPORT:\n",
      "               0      1  accuracy  macro avg  weighted avg\n",
      "precision    1.0    1.0       1.0        1.0           1.0\n",
      "recall       1.0    1.0       1.0        1.0           1.0\n",
      "f1-score     1.0    1.0       1.0        1.0           1.0\n",
      "support    393.0  221.0       1.0      614.0         614.0\n",
      "_______________________________________________\n",
      "Confusion Matrix: \n",
      " [[393   0]\n",
      " [  0 221]]\n",
      "\n",
      "\n",
      "Test Result:\n",
      "================================================\n",
      "Accuracy Score: 81.17%\n",
      "_______________________________________________\n",
      "F1 Score: 0.68\n",
      "_______________________________________________\n",
      "CLASSIFICATION REPORT:\n",
      "                    0          1  accuracy   macro avg  weighted avg\n",
      "precision    0.854545   0.704545  0.811688    0.779545      0.808766\n",
      "recall       0.878505   0.659574  0.811688    0.769040      0.811688\n",
      "f1-score     0.866359   0.681319  0.811688    0.773839      0.809886\n",
      "support    107.000000  47.000000  0.811688  154.000000    154.000000\n",
      "_______________________________________________\n",
      "Confusion Matrix: \n",
      " [[94 13]\n",
      " [16 31]]\n",
      "\n"
     ]
    }
   ],
   "source": [
    "rfc = RandomForestClassifier(n_estimators = 500)\n",
    "rfc.fit(X_train, y_train)\n",
    "\n",
    "evaluation(rfc, X_train, y_train, X_test, y_test, True)\n",
    "print()\n",
    "evaluation(rfc, X_train, y_train, X_test, y_test, False)"
   ]
  },
  {
   "cell_type": "code",
   "execution_count": 61,
   "id": "efc2b9d7",
   "metadata": {},
   "outputs": [
    {
     "name": "stdout",
     "output_type": "stream",
     "text": [
      "100.0\n",
      "82.47\n"
     ]
    }
   ],
   "source": [
    "train_score_rfc = round(accuracy_score(y_train, rfc.predict(X_train)) * 100, 2)\n",
    "test_score_rfc = round(accuracy_score(y_test, rfc.predict(X_test)) * 100, 2)\n",
    "print(train_score_rfc)\n",
    "print(test_score_rfc)"
   ]
  },
  {
   "cell_type": "markdown",
   "id": "d8558767",
   "metadata": {},
   "source": [
    "# Decision Tree Classifier"
   ]
  },
  {
   "cell_type": "code",
   "execution_count": 50,
   "id": "b36c1064",
   "metadata": {},
   "outputs": [
    {
     "name": "stdout",
     "output_type": "stream",
     "text": [
      "Train Result:\n",
      "================================================\n",
      "Accuracy Score: 100.00%\n",
      "_______________________________________________\n",
      "F1 Score: 1.0\n",
      "_______________________________________________\n",
      "CLASSIFICATION REPORT:\n",
      "               0      1  accuracy  macro avg  weighted avg\n",
      "precision    1.0    1.0       1.0        1.0           1.0\n",
      "recall       1.0    1.0       1.0        1.0           1.0\n",
      "f1-score     1.0    1.0       1.0        1.0           1.0\n",
      "support    393.0  221.0       1.0      614.0         614.0\n",
      "_______________________________________________\n",
      "Confusion Matrix: \n",
      " [[393   0]\n",
      " [  0 221]]\n",
      "\n",
      "\n",
      "Test Result:\n",
      "================================================\n",
      "Accuracy Score: 72.73%\n",
      "_______________________________________________\n",
      "F1 Score: 0.56\n",
      "_______________________________________________\n",
      "CLASSIFICATION REPORT:\n",
      "                    0          1  accuracy   macro avg  weighted avg\n",
      "precision    0.809524   0.551020  0.727273    0.680272      0.730630\n",
      "recall       0.794393   0.574468  0.727273    0.684430      0.727273\n",
      "f1-score     0.801887   0.562500  0.727273    0.682193      0.728827\n",
      "support    107.000000  47.000000  0.727273  154.000000    154.000000\n",
      "_______________________________________________\n",
      "Confusion Matrix: \n",
      " [[85 22]\n",
      " [20 27]]\n",
      "\n"
     ]
    }
   ],
   "source": [
    "from sklearn.tree import DecisionTreeClassifier\n",
    "\n",
    "dtc = DecisionTreeClassifier()\n",
    "dtc.fit(X_train, y_train)\n",
    "\n",
    "evaluation(dtc, X_train, y_train, X_test, y_test, True)\n",
    "print()\n",
    "evaluation(dtc, X_train, y_train, X_test, y_test, False)"
   ]
  },
  {
   "cell_type": "code",
   "execution_count": 60,
   "id": "3040e5b8",
   "metadata": {},
   "outputs": [
    {
     "name": "stdout",
     "output_type": "stream",
     "text": [
      "100.0\n",
      "72.73\n"
     ]
    }
   ],
   "source": [
    "train_score_dtc = round(accuracy_score(y_train, dtc.predict(X_train)) * 100, 2)\n",
    "test_score_dtc = round(accuracy_score(y_test, dtc.predict(X_test)) * 100, 2)\n",
    "print(train_score_dtc)\n",
    "print(test_score_dtc)"
   ]
  },
  {
   "cell_type": "code",
   "execution_count": null,
   "id": "f67ec20b",
   "metadata": {},
   "outputs": [],
   "source": []
  }
 ],
 "metadata": {
  "kernelspec": {
   "display_name": "Python 3 (ipykernel)",
   "language": "python",
   "name": "python3"
  },
  "language_info": {
   "codemirror_mode": {
    "name": "ipython",
    "version": 3
   },
   "file_extension": ".py",
   "mimetype": "text/x-python",
   "name": "python",
   "nbconvert_exporter": "python",
   "pygments_lexer": "ipython3",
   "version": "3.10.0"
  }
 },
 "nbformat": 4,
 "nbformat_minor": 5
}
