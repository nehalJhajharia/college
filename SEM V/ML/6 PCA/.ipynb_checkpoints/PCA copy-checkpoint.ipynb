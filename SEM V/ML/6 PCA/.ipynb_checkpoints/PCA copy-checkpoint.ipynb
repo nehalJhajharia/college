{
 "cells": [
  {
   "cell_type": "markdown",
   "id": "4d061b1c-3ce8-485e-8c43-48ae3dcdea61",
   "metadata": {},
   "source": [
    "Step1"
   ]
  },
  {
   "cell_type": "code",
   "execution_count": 1,
   "id": "a9f40f24-82a0-46f2-9ddd-097bd5b381cf",
   "metadata": {},
   "outputs": [],
   "source": [
    "import numpy as np\n",
    "import pandas as pd \n"
   ]
  },
  {
   "cell_type": "code",
   "execution_count": 5,
   "id": "8b900264-5593-4ded-95b6-712f8ab692f9",
   "metadata": {},
   "outputs": [],
   "source": [
    "df = pd.read_csv('SPECTF.txt')"
   ]
  },
  {
   "cell_type": "code",
   "execution_count": 6,
   "id": "244872d6-018b-4707-a9ef-a3cfd68b1aba",
   "metadata": {},
   "outputs": [
    {
     "data": {
      "text/html": [
       "<div>\n",
       "<style scoped>\n",
       "    .dataframe tbody tr th:only-of-type {\n",
       "        vertical-align: middle;\n",
       "    }\n",
       "\n",
       "    .dataframe tbody tr th {\n",
       "        vertical-align: top;\n",
       "    }\n",
       "\n",
       "    .dataframe thead th {\n",
       "        text-align: right;\n",
       "    }\n",
       "</style>\n",
       "<table border=\"1\" class=\"dataframe\">\n",
       "  <thead>\n",
       "    <tr style=\"text-align: right;\">\n",
       "      <th></th>\n",
       "      <th></th>\n",
       "      <th></th>\n",
       "      <th></th>\n",
       "      <th></th>\n",
       "      <th></th>\n",
       "      <th></th>\n",
       "      <th></th>\n",
       "      <th></th>\n",
       "      <th></th>\n",
       "      <th></th>\n",
       "      <th></th>\n",
       "      <th></th>\n",
       "      <th></th>\n",
       "      <th></th>\n",
       "      <th></th>\n",
       "      <th></th>\n",
       "      <th></th>\n",
       "      <th></th>\n",
       "      <th></th>\n",
       "      <th>url = 'https://archive.ics.uci.edu/ml/machine-learning-databases/spect/SPECTF.test'</th>\n",
       "    </tr>\n",
       "  </thead>\n",
       "  <tbody>\n",
       "    <tr>\n",
       "      <th>col_names = ['target'</th>\n",
       "      <th>'F1R'</th>\n",
       "      <th>'F1S'</th>\n",
       "      <th>'F2R'</th>\n",
       "      <th>'F2S'</th>\n",
       "      <th>'F3R'</th>\n",
       "      <th>'F3S'</th>\n",
       "      <th>'F4R'</th>\n",
       "      <th>'F4S'</th>\n",
       "      <th>'F5R'</th>\n",
       "      <th>'F5S'</th>\n",
       "      <th>'F6R'</th>\n",
       "      <th>'F6S'</th>\n",
       "      <th>'F7R'</th>\n",
       "      <th>'F7S'</th>\n",
       "      <th>'F8R'</th>\n",
       "      <th>'F8S'</th>\n",
       "      <th>'F9R'</th>\n",
       "      <th>'F9S'</th>\n",
       "      <th>'F10R'</th>\n",
       "      <td>NaN</td>\n",
       "    </tr>\n",
       "    <tr>\n",
       "      <th>'F10S'</th>\n",
       "      <th>'F11R'</th>\n",
       "      <th>'F11S'</th>\n",
       "      <th>'F12R'</th>\n",
       "      <th>'F12S'</th>\n",
       "      <th>'F13R'</th>\n",
       "      <th>'F13S'</th>\n",
       "      <th>'F14R'</th>\n",
       "      <th>'F14S'</th>\n",
       "      <th>'F15R'</th>\n",
       "      <th>'F15S'</th>\n",
       "      <th>'F16R'</th>\n",
       "      <th>'F16S'</th>\n",
       "      <th>'F17R'</th>\n",
       "      <th>'F17S'</th>\n",
       "      <th>'F18R'</th>\n",
       "      <th>'F18S'</th>\n",
       "      <th>'F19R'</th>\n",
       "      <th>'F19S'</th>\n",
       "      <th>'F20R'</th>\n",
       "      <td>NaN</td>\n",
       "    </tr>\n",
       "    <tr>\n",
       "      <th>'F20S'</th>\n",
       "      <th>'F21R'</th>\n",
       "      <th>'F21S'</th>\n",
       "      <th>'F22R'</th>\n",
       "      <th>'F22S']</th>\n",
       "      <th>NaN</th>\n",
       "      <th>NaN</th>\n",
       "      <th>NaN</th>\n",
       "      <th>NaN</th>\n",
       "      <th>NaN</th>\n",
       "      <th>NaN</th>\n",
       "      <th>NaN</th>\n",
       "      <th>NaN</th>\n",
       "      <th>NaN</th>\n",
       "      <th>NaN</th>\n",
       "      <th>NaN</th>\n",
       "      <th>NaN</th>\n",
       "      <th>NaN</th>\n",
       "      <th>NaN</th>\n",
       "      <th>NaN</th>\n",
       "      <td>NaN</td>\n",
       "    </tr>\n",
       "    <tr>\n",
       "      <th>spectf= pd.read_table(url</th>\n",
       "      <th>sep='</th>\n",
       "      <th>'</th>\n",
       "      <th>names=col_names)</th>\n",
       "      <th>NaN</th>\n",
       "      <th>NaN</th>\n",
       "      <th>NaN</th>\n",
       "      <th>NaN</th>\n",
       "      <th>NaN</th>\n",
       "      <th>NaN</th>\n",
       "      <th>NaN</th>\n",
       "      <th>NaN</th>\n",
       "      <th>NaN</th>\n",
       "      <th>NaN</th>\n",
       "      <th>NaN</th>\n",
       "      <th>NaN</th>\n",
       "      <th>NaN</th>\n",
       "      <th>NaN</th>\n",
       "      <th>NaN</th>\n",
       "      <th>NaN</th>\n",
       "      <td>NaN</td>\n",
       "    </tr>\n",
       "  </tbody>\n",
       "</table>\n",
       "</div>"
      ],
      "text/plain": [
       "                                                                                                                                                                                url = 'https://archive.ics.uci.edu/ml/machine-learning-databases/spect/SPECTF.test'\n",
       "col_names = ['target'      'F1R'    'F1S'  'F2R'            'F2S'   'F3R'  'F3S'  'F4R'  'F4S'  'F5R' 'F5S'  'F6R'  'F6S'  'F7R'  'F7S'  'F8R'  'F8S'  'F9R'  'F9S'  'F10R'                                                   NaN                                  \n",
       "    'F10S'                  'F11R' 'F11S' 'F12R'           'F12S'  'F13R' 'F13S' 'F14R' 'F14S' 'F15R' 'F15S' 'F16R' 'F16S' 'F17R' 'F17S' 'F18R' 'F18S' 'F19R' 'F19S'    'F20R'                                                NaN                                  \n",
       "    'F20S'                'F21R'   'F21S' 'F22R'           'F22S'] NaN    NaN    NaN    NaN    NaN    NaN    NaN    NaN    NaN    NaN    NaN    NaN    NaN    NaN    NaN                                                      NaN                                  \n",
       "spectf= pd.read_table(url sep='    '      names=col_names) NaN     NaN    NaN    NaN    NaN    NaN    NaN    NaN    NaN    NaN    NaN    NaN    NaN    NaN    NaN    NaN                                                      NaN                                  "
      ]
     },
     "execution_count": 6,
     "metadata": {},
     "output_type": "execute_result"
    }
   ],
   "source": [
    "df.head()"
   ]
  },
  {
   "cell_type": "markdown",
   "id": "363b4010-c1c8-4912-ad55-f11a0e6f6c59",
   "metadata": {},
   "source": [
    "Step2"
   ]
  },
  {
   "cell_type": "code",
   "execution_count": 7,
   "id": "582c1ed8-cc0b-4e09-845b-5b189864a363",
   "metadata": {},
   "outputs": [],
   "source": [
    "Y = df.iloc[:,0] # All rows and 0th column"
   ]
  },
  {
   "cell_type": "code",
   "execution_count": 8,
   "id": "fd7e6138-dbbf-4fe1-b4ac-c1e4de2cdb12",
   "metadata": {},
   "outputs": [],
   "source": [
    "X = df.iloc[:,1:] # From 1 to last column"
   ]
  },
  {
   "cell_type": "code",
   "execution_count": 9,
   "id": "b7cd5c85-b145-4706-b07a-323ebff1932b",
   "metadata": {},
   "outputs": [],
   "source": [
    "import matplotlib.pyplot as plt"
   ]
  },
  {
   "cell_type": "code",
   "execution_count": 10,
   "id": "740d19b2-f76f-4eda-9797-214874eb3dd2",
   "metadata": {},
   "outputs": [
    {
     "data": {
      "text/html": [
       "<div>\n",
       "<style scoped>\n",
       "    .dataframe tbody tr th:only-of-type {\n",
       "        vertical-align: middle;\n",
       "    }\n",
       "\n",
       "    .dataframe tbody tr th {\n",
       "        vertical-align: top;\n",
       "    }\n",
       "\n",
       "    .dataframe thead th {\n",
       "        text-align: right;\n",
       "    }\n",
       "</style>\n",
       "<table border=\"1\" class=\"dataframe\">\n",
       "  <thead>\n",
       "    <tr style=\"text-align: right;\">\n",
       "      <th></th>\n",
       "      <th>url = 'https://archive.ics.uci.edu/ml/machine-learning-databases/spect/SPECTF.test'</th>\n",
       "    </tr>\n",
       "  </thead>\n",
       "  <tbody>\n",
       "    <tr>\n",
       "      <th>url = 'https://archive.ics.uci.edu/ml/machine-learning-databases/spect/SPECTF.test'</th>\n",
       "      <td>NaN</td>\n",
       "    </tr>\n",
       "  </tbody>\n",
       "</table>\n",
       "</div>"
      ],
      "text/plain": [
       "                                                    url = 'https://archive.ics.uci.edu/ml/machine-learning-databases/spect/SPECTF.test'\n",
       "url = 'https://archive.ics.uci.edu/ml/machine-l...                                                NaN                                  "
      ]
     },
     "execution_count": 10,
     "metadata": {},
     "output_type": "execute_result"
    }
   ],
   "source": [
    "corr = df.corr()\n",
    "corr"
   ]
  },
  {
   "cell_type": "markdown",
   "id": "04c1e2b2-c25a-4c5e-a1cb-84b216740313",
   "metadata": {},
   "source": [
    "Values of Pearson's correalation (matrix)"
   ]
  },
  {
   "cell_type": "code",
   "execution_count": 11,
   "id": "437dbc8c-e1ae-43d1-b273-8e29689e48ba",
   "metadata": {},
   "outputs": [
    {
     "data": {
      "image/png": "[encoded data removed]",
      "text/plain": [
       "<Figure size 432x288 with 2 Axes>"
      ]
     },
     "metadata": {
      "needs_background": "light"
     },
     "output_type": "display_data"
    }
   ],
   "source": [
    "fig = plt.figure()\n",
    "ax = fig.add_subplot(111)\n",
    "cax = ax.matshow(corr,cmap='coolwarm', vmin=-1, vmax=1)\n",
    "fig.colorbar(cax)\n",
    "ticks = np.arange(0,len(df.columns),1)\n",
    "ax.set_xticks(ticks)\n",
    "plt.xticks(rotation=90)\n",
    "ax.set_yticks(ticks)\n",
    "ax.set_xticklabels(df.columns)\n",
    "ax.set_yticklabels(df.columns)\n",
    "plt.show()"
   ]
  },
  {
   "cell_type": "markdown",
   "id": "64743a5e-358d-48df-9d7a-0b7984cf5e31",
   "metadata": {},
   "source": [
    "Correlation show in graph format (as Heat Map)"
   ]
  },
  {
   "cell_type": "markdown",
   "id": "1b2524dc-b755-4ac2-aa74-ca66a0b17846",
   "metadata": {},
   "source": [
    "Step3"
   ]
  },
  {
   "cell_type": "code",
   "execution_count": 97,
   "id": "d0ae3880-bec0-42ee-91a7-f48d15ffa225",
   "metadata": {},
   "outputs": [],
   "source": [
    "import time\n",
    "from sklearn.linear_model import LogisticRegression"
   ]
  },
  {
   "cell_type": "code",
   "execution_count": 98,
   "id": "0a4ab322-43a9-4e4f-bf7b-d3dbe99ecce1",
   "metadata": {},
   "outputs": [],
   "source": [
    "noPCA_Start_time = time.time()"
   ]
  },
  {
   "cell_type": "code",
   "execution_count": 99,
   "id": "109b8687-226a-454a-b1e9-fa4461cee960",
   "metadata": {},
   "outputs": [
    {
     "name": "stderr",
     "output_type": "stream",
     "text": [
      "/Library/Frameworks/Python.framework/Versions/3.9/lib/python3.9/site-packages/sklearn/linear_model/_logistic.py:444: ConvergenceWarning: lbfgs failed to converge (status=1):\n",
      "STOP: TOTAL NO. of ITERATIONS REACHED LIMIT.\n",
      "\n",
      "Increase the number of iterations (max_iter) or scale the data as shown in:\n",
      "    https://scikit-learn.org/stable/modules/preprocessing.html\n",
      "Please also refer to the documentation for alternative solver options:\n",
      "    https://scikit-learn.org/stable/modules/linear_model.html#logistic-regression\n",
      "  n_iter_i = _check_optimize_result(\n"
     ]
    }
   ],
   "source": [
    "model = LogisticRegression(random_state=1).fit(X, Y)"
   ]
  },
  {
   "cell_type": "code",
   "execution_count": 100,
   "id": "fa3357dc-7ca3-48c8-a80c-0c23763386d3",
   "metadata": {},
   "outputs": [
    {
     "data": {
      "text/plain": [
       "array([1, 1, 1, 1, 1, 1, 1, 1, 1, 1, 1, 1, 1, 1, 1, 1, 1, 1, 1, 1, 1, 1,\n",
       "       1, 1, 1, 1, 1, 1, 1, 1, 1, 1, 1, 1, 1, 1, 1, 1, 1, 1, 1, 1, 1, 1,\n",
       "       0, 1, 1, 1, 1, 1, 1, 1, 1, 1, 1, 1, 1, 1, 1, 1, 1, 1, 1, 1, 1, 1,\n",
       "       1, 1, 1, 1, 1, 1, 1, 1, 1, 1, 1, 1, 1, 1, 1, 1, 1, 1, 1, 1, 1, 1,\n",
       "       1, 1, 1, 1, 1, 1, 1, 1, 1, 1, 1, 1, 1, 1, 1, 1, 1, 1, 1, 1, 1, 1,\n",
       "       1, 1, 1, 1, 1, 1, 1, 1, 1, 1, 1, 1, 1, 1, 1, 1, 1, 1, 1, 1, 1, 1,\n",
       "       1, 1, 1, 1, 1, 1, 1, 1, 1, 1, 1, 1, 1, 1, 1, 1, 1, 1, 1, 1, 1, 1,\n",
       "       1, 1, 1, 1, 1, 1, 1, 1, 1, 1, 1, 0, 1, 1, 1, 1, 1, 1, 0, 0, 1, 0,\n",
       "       0, 1, 0, 0, 1, 1, 1, 1, 0, 1])"
      ]
     },
     "execution_count": 100,
     "metadata": {},
     "output_type": "execute_result"
    }
   ],
   "source": [
    "model.predict(X)"
   ]
  },
  {
   "cell_type": "code",
   "execution_count": 101,
   "id": "10e0cc62-16d2-46bd-9e86-19d34275c240",
   "metadata": {},
   "outputs": [
    {
     "data": {
      "text/plain": [
       "array([[3.11392228e-04, 9.99688608e-01],\n",
       "       [9.54869991e-06, 9.99990451e-01],\n",
       "       [1.40255034e-02, 9.85974497e-01],\n",
       "       [4.01656628e-06, 9.99995983e-01],\n",
       "       [2.59321146e-04, 9.99740679e-01],\n",
       "       [1.76751740e-02, 9.82324826e-01],\n",
       "       [1.65397525e-04, 9.99834602e-01],\n",
       "       [6.62629521e-02, 9.33737048e-01],\n",
       "       [5.27336885e-09, 9.99999995e-01],\n",
       "       [3.81342355e-04, 9.99618658e-01],\n",
       "       [8.39641210e-07, 9.99999160e-01],\n",
       "       [4.26417751e-02, 9.57358225e-01],\n",
       "       [8.82579972e-05, 9.99911742e-01],\n",
       "       [4.36196362e-06, 9.99995638e-01],\n",
       "       [1.10451551e-06, 9.99998895e-01],\n",
       "       [1.15804483e-02, 9.88419552e-01],\n",
       "       [1.26528213e-01, 8.73471787e-01],\n",
       "       [3.13884422e-04, 9.99686116e-01],\n",
       "       [1.97050002e-05, 9.99980295e-01],\n",
       "       [3.93164168e-09, 9.99999996e-01],\n",
       "       [0.00000000e+00, 1.00000000e+00],\n",
       "       [7.77286793e-08, 9.99999922e-01],\n",
       "       [1.41144383e-04, 9.99858856e-01],\n",
       "       [9.82347522e-03, 9.90176525e-01],\n",
       "       [2.55564081e-09, 9.99999997e-01],\n",
       "       [9.30902996e-03, 9.90690970e-01],\n",
       "       [2.49772758e-07, 9.99999750e-01],\n",
       "       [1.14689775e-04, 9.99885310e-01],\n",
       "       [1.02772344e-04, 9.99897228e-01],\n",
       "       [1.27666574e-03, 9.98723334e-01],\n",
       "       [2.43598504e-01, 7.56401496e-01],\n",
       "       [1.13989681e-07, 9.99999886e-01],\n",
       "       [8.31551050e-10, 9.99999999e-01],\n",
       "       [3.00738287e-04, 9.99699262e-01],\n",
       "       [1.71533825e-01, 8.28466175e-01],\n",
       "       [2.25327303e-06, 9.99997747e-01],\n",
       "       [2.67563749e-13, 1.00000000e+00],\n",
       "       [3.04242020e-03, 9.96957580e-01],\n",
       "       [1.51657505e-02, 9.84834249e-01],\n",
       "       [4.71275858e-08, 9.99999953e-01],\n",
       "       [6.85147994e-02, 9.31485201e-01],\n",
       "       [2.31044509e-06, 9.99997690e-01],\n",
       "       [0.00000000e+00, 1.00000000e+00],\n",
       "       [3.77475828e-15, 1.00000000e+00],\n",
       "       [5.10935749e-01, 4.89064251e-01],\n",
       "       [2.03894828e-01, 7.96105172e-01],\n",
       "       [8.35267688e-07, 9.99999165e-01],\n",
       "       [4.16090577e-02, 9.58390942e-01],\n",
       "       [1.91327657e-08, 9.99999981e-01],\n",
       "       [1.45159298e-05, 9.99985484e-01],\n",
       "       [1.52482027e-10, 1.00000000e+00],\n",
       "       [2.69836077e-06, 9.99997302e-01],\n",
       "       [1.06461784e-03, 9.98935382e-01],\n",
       "       [1.55476823e-01, 8.44523177e-01],\n",
       "       [1.95752836e-06, 9.99998042e-01],\n",
       "       [2.91618798e-08, 9.99999971e-01],\n",
       "       [5.51324386e-09, 9.99999994e-01],\n",
       "       [2.34955219e-03, 9.97650448e-01],\n",
       "       [2.75703364e-04, 9.99724297e-01],\n",
       "       [5.66119500e-03, 9.94338805e-01],\n",
       "       [1.45019666e-01, 8.54980334e-01],\n",
       "       [5.30477314e-07, 9.99999470e-01],\n",
       "       [2.03039363e-10, 1.00000000e+00],\n",
       "       [1.00148297e-05, 9.99989985e-01],\n",
       "       [2.22691195e-01, 7.77308805e-01],\n",
       "       [2.49160386e-08, 9.99999975e-01],\n",
       "       [1.58666025e-01, 8.41333975e-01],\n",
       "       [3.63623593e-07, 9.99999636e-01],\n",
       "       [7.62076312e-07, 9.99999238e-01],\n",
       "       [6.67966329e-04, 9.99332034e-01],\n",
       "       [8.13107872e-08, 9.99999919e-01],\n",
       "       [1.86776752e-02, 9.81322325e-01],\n",
       "       [4.69849058e-03, 9.95301509e-01],\n",
       "       [2.59523456e-01, 7.40476544e-01],\n",
       "       [3.52956006e-08, 9.99999965e-01],\n",
       "       [5.46117828e-04, 9.99453882e-01],\n",
       "       [2.22729724e-09, 9.99999998e-01],\n",
       "       [2.08097395e-03, 9.97919026e-01],\n",
       "       [1.93622895e-13, 1.00000000e+00],\n",
       "       [4.24657349e-03, 9.95753427e-01],\n",
       "       [6.07305891e-04, 9.99392694e-01],\n",
       "       [1.09996456e-11, 1.00000000e+00],\n",
       "       [8.12943301e-02, 9.18705670e-01],\n",
       "       [7.51320679e-07, 9.99999249e-01],\n",
       "       [9.76996262e-15, 1.00000000e+00],\n",
       "       [2.19157837e-02, 9.78084216e-01],\n",
       "       [8.93830116e-07, 9.99999106e-01],\n",
       "       [1.36087787e-04, 9.99863912e-01],\n",
       "       [7.40138784e-07, 9.99999260e-01],\n",
       "       [1.27785200e-03, 9.98722148e-01],\n",
       "       [1.72573067e-12, 1.00000000e+00],\n",
       "       [8.25775492e-07, 9.99999174e-01],\n",
       "       [4.83355517e-08, 9.99999952e-01],\n",
       "       [2.89601223e-02, 9.71039878e-01],\n",
       "       [1.83258808e-03, 9.98167412e-01],\n",
       "       [3.31426433e-04, 9.99668574e-01],\n",
       "       [2.27599624e-05, 9.99977240e-01],\n",
       "       [1.89856197e-09, 9.99999998e-01],\n",
       "       [2.29060120e-04, 9.99770940e-01],\n",
       "       [4.43709595e-03, 9.95562904e-01],\n",
       "       [8.57548168e-05, 9.99914245e-01],\n",
       "       [5.47541800e-04, 9.99452458e-01],\n",
       "       [2.98380876e-10, 1.00000000e+00],\n",
       "       [1.37706344e-05, 9.99986229e-01],\n",
       "       [1.81158007e-03, 9.98188420e-01],\n",
       "       [4.65985774e-06, 9.99995340e-01],\n",
       "       [3.49153452e-01, 6.50846548e-01],\n",
       "       [1.15640130e-01, 8.84359870e-01],\n",
       "       [1.55391533e-04, 9.99844608e-01],\n",
       "       [2.68789815e-01, 7.31210185e-01],\n",
       "       [7.84442344e-09, 9.99999992e-01],\n",
       "       [4.83547034e-03, 9.95164530e-01],\n",
       "       [2.78477907e-05, 9.99972152e-01],\n",
       "       [8.18513045e-04, 9.99181487e-01],\n",
       "       [3.99416141e-01, 6.00583859e-01],\n",
       "       [2.84611218e-02, 9.71538878e-01],\n",
       "       [6.27343625e-05, 9.99937266e-01],\n",
       "       [1.95745480e-04, 9.99804255e-01],\n",
       "       [7.26113459e-02, 9.27388654e-01],\n",
       "       [4.22426129e-01, 5.77573871e-01],\n",
       "       [1.02110486e-03, 9.98978895e-01],\n",
       "       [2.32758311e-03, 9.97672417e-01],\n",
       "       [3.93292766e-05, 9.99960671e-01],\n",
       "       [6.16731133e-06, 9.99993833e-01],\n",
       "       [5.11201126e-02, 9.48879887e-01],\n",
       "       [2.89434998e-04, 9.99710565e-01],\n",
       "       [5.96788328e-03, 9.94032117e-01],\n",
       "       [1.19830745e-01, 8.80169255e-01],\n",
       "       [6.54447569e-03, 9.93455524e-01],\n",
       "       [1.23344023e-01, 8.76655977e-01],\n",
       "       [2.07314599e-02, 9.79268540e-01],\n",
       "       [1.97908213e-01, 8.02091787e-01],\n",
       "       [2.09654516e-12, 1.00000000e+00],\n",
       "       [3.40919492e-03, 9.96590805e-01],\n",
       "       [7.19034513e-06, 9.99992810e-01],\n",
       "       [3.23567334e-02, 9.67643267e-01],\n",
       "       [1.88634162e-07, 9.99999811e-01],\n",
       "       [1.79025641e-05, 9.99982097e-01],\n",
       "       [0.00000000e+00, 1.00000000e+00],\n",
       "       [5.22903167e-02, 9.47709683e-01],\n",
       "       [1.32350774e-02, 9.86764923e-01],\n",
       "       [4.06011702e-07, 9.99999594e-01],\n",
       "       [1.85098952e-06, 9.99998149e-01],\n",
       "       [1.38760892e-09, 9.99999999e-01],\n",
       "       [6.36462516e-02, 9.36353748e-01],\n",
       "       [3.04073586e-08, 9.99999970e-01],\n",
       "       [8.88685772e-03, 9.91113142e-01],\n",
       "       [4.52526905e-12, 1.00000000e+00],\n",
       "       [4.06124967e-02, 9.59387503e-01],\n",
       "       [4.74646180e-01, 5.25353820e-01],\n",
       "       [9.62676418e-02, 9.03732358e-01],\n",
       "       [1.16787169e-04, 9.99883213e-01],\n",
       "       [3.15530944e-01, 6.84469056e-01],\n",
       "       [2.35925004e-05, 9.99976407e-01],\n",
       "       [6.67562222e-04, 9.99332438e-01],\n",
       "       [4.19819480e-03, 9.95801805e-01],\n",
       "       [0.00000000e+00, 1.00000000e+00],\n",
       "       [7.92921284e-13, 1.00000000e+00],\n",
       "       [1.44408041e-10, 1.00000000e+00],\n",
       "       [3.98964584e-04, 9.99601035e-01],\n",
       "       [1.48260956e-01, 8.51739044e-01],\n",
       "       [1.06410868e-02, 9.89358913e-01],\n",
       "       [3.47045404e-04, 9.99652955e-01],\n",
       "       [2.22468701e-08, 9.99999978e-01],\n",
       "       [1.18059793e-01, 8.81940207e-01],\n",
       "       [6.53904562e-01, 3.46095438e-01],\n",
       "       [1.96471924e-03, 9.98035281e-01],\n",
       "       [7.01666621e-05, 9.99929833e-01],\n",
       "       [3.88056501e-01, 6.11943499e-01],\n",
       "       [4.38405945e-04, 9.99561594e-01],\n",
       "       [2.50666610e-05, 9.99974933e-01],\n",
       "       [3.91415872e-01, 6.08584128e-01],\n",
       "       [5.99425146e-01, 4.00574854e-01],\n",
       "       [9.57586678e-01, 4.24133224e-02],\n",
       "       [4.43645109e-01, 5.56354891e-01],\n",
       "       [7.75047459e-01, 2.24952541e-01],\n",
       "       [7.25569889e-01, 2.74430111e-01],\n",
       "       [3.73228063e-01, 6.26771937e-01],\n",
       "       [6.89586185e-01, 3.10413815e-01],\n",
       "       [6.64299019e-01, 3.35700981e-01],\n",
       "       [2.41045092e-01, 7.58954908e-01],\n",
       "       [4.59126535e-01, 5.40873465e-01],\n",
       "       [4.41968793e-01, 5.58031207e-01],\n",
       "       [3.90326325e-01, 6.09673675e-01],\n",
       "       [9.17417553e-01, 8.25824470e-02],\n",
       "       [3.26760531e-02, 9.67323947e-01]])"
      ]
     },
     "execution_count": 101,
     "metadata": {},
     "output_type": "execute_result"
    }
   ],
   "source": [
    "model.predict_proba(X)"
   ]
  },
  {
   "cell_type": "code",
   "execution_count": 102,
   "id": "d05ea1a5-0591-447c-887e-0869cef416e0",
   "metadata": {},
   "outputs": [
    {
     "data": {
      "text/plain": [
       "0.946236559139785"
      ]
     },
     "execution_count": 102,
     "metadata": {},
     "output_type": "execute_result"
    }
   ],
   "source": [
    "model.score(X, Y)"
   ]
  },
  {
   "cell_type": "code",
   "execution_count": 103,
   "id": "9fee4f3f-5b38-4ccf-9548-92a1a989d407",
   "metadata": {},
   "outputs": [],
   "source": [
    "noPCA_End_time = time.time()"
   ]
  },
  {
   "cell_type": "code",
   "execution_count": 104,
   "id": "e2fcb6f1-2119-411e-812a-6cc0164d5368",
   "metadata": {},
   "outputs": [],
   "source": [
    "noPCA_time = noPCA_End_time - noPCA_Start_time "
   ]
  },
  {
   "cell_type": "markdown",
   "id": "6c2bb6ff-460f-4db3-9872-e41d1ada7639",
   "metadata": {},
   "source": [
    "Step:4"
   ]
  },
  {
   "cell_type": "code",
   "execution_count": 105,
   "id": "31788186-3de7-4084-8d24-d4270e393fbf",
   "metadata": {},
   "outputs": [],
   "source": [
    "from sklearn.preprocessing import StandardScaler"
   ]
  },
  {
   "cell_type": "code",
   "execution_count": 106,
   "id": "1bde7a17-9f6a-4ab7-9024-11b828e161c0",
   "metadata": {},
   "outputs": [],
   "source": [
    "scaler = StandardScaler()"
   ]
  },
  {
   "cell_type": "code",
   "execution_count": 107,
   "id": "3d3d475e-b7c3-40b3-b62e-112e7785654b",
   "metadata": {},
   "outputs": [
    {
     "data": {
      "text/html": [
       "<style>#sk-container-id-6 {color: black;background-color: white;}#sk-container-id-6 pre{padding: 0;}#sk-container-id-6 div.sk-toggleable {background-color: white;}#sk-container-id-6 label.sk-toggleable__label {cursor: pointer;display: block;width: 100%;margin-bottom: 0;padding: 0.3em;box-sizing: border-box;text-align: center;}#sk-container-id-6 label.sk-toggleable__label-arrow:before {content: \"▸\";float: left;margin-right: 0.25em;color: #696969;}#sk-container-id-6 label.sk-toggleable__label-arrow:hover:before {color: black;}#sk-container-id-6 div.sk-estimator:hover label.sk-toggleable__label-arrow:before {color: black;}#sk-container-id-6 div.sk-toggleable__content {max-height: 0;max-width: 0;overflow: hidden;text-align: left;background-color: #f0f8ff;}#sk-container-id-6 div.sk-toggleable__content pre {margin: 0.2em;color: black;border-radius: 0.25em;background-color: #f0f8ff;}#sk-container-id-6 input.sk-toggleable__control:checked~div.sk-toggleable__content {max-height: 200px;max-width: 100%;overflow: auto;}#sk-container-id-6 input.sk-toggleable__control:checked~label.sk-toggleable__label-arrow:before {content: \"▾\";}#sk-container-id-6 div.sk-estimator input.sk-toggleable__control:checked~label.sk-toggleable__label {background-color: #d4ebff;}#sk-container-id-6 div.sk-label input.sk-toggleable__control:checked~label.sk-toggleable__label {background-color: #d4ebff;}#sk-container-id-6 input.sk-hidden--visually {border: 0;clip: rect(1px 1px 1px 1px);clip: rect(1px, 1px, 1px, 1px);height: 1px;margin: -1px;overflow: hidden;padding: 0;position: absolute;width: 1px;}#sk-container-id-6 div.sk-estimator {font-family: monospace;background-color: #f0f8ff;border: 1px dotted black;border-radius: 0.25em;box-sizing: border-box;margin-bottom: 0.5em;}#sk-container-id-6 div.sk-estimator:hover {background-color: #d4ebff;}#sk-container-id-6 div.sk-parallel-item::after {content: \"\";width: 100%;border-bottom: 1px solid gray;flex-grow: 1;}#sk-container-id-6 div.sk-label:hover label.sk-toggleable__label {background-color: #d4ebff;}#sk-container-id-6 div.sk-serial::before {content: \"\";position: absolute;border-left: 1px solid gray;box-sizing: border-box;top: 0;bottom: 0;left: 50%;z-index: 0;}#sk-container-id-6 div.sk-serial {display: flex;flex-direction: column;align-items: center;background-color: white;padding-right: 0.2em;padding-left: 0.2em;position: relative;}#sk-container-id-6 div.sk-item {position: relative;z-index: 1;}#sk-container-id-6 div.sk-parallel {display: flex;align-items: stretch;justify-content: center;background-color: white;position: relative;}#sk-container-id-6 div.sk-item::before, #sk-container-id-6 div.sk-parallel-item::before {content: \"\";position: absolute;border-left: 1px solid gray;box-sizing: border-box;top: 0;bottom: 0;left: 50%;z-index: -1;}#sk-container-id-6 div.sk-parallel-item {display: flex;flex-direction: column;z-index: 1;position: relative;background-color: white;}#sk-container-id-6 div.sk-parallel-item:first-child::after {align-self: flex-end;width: 50%;}#sk-container-id-6 div.sk-parallel-item:last-child::after {align-self: flex-start;width: 50%;}#sk-container-id-6 div.sk-parallel-item:only-child::after {width: 0;}#sk-container-id-6 div.sk-dashed-wrapped {border: 1px dashed gray;margin: 0 0.4em 0.5em 0.4em;box-sizing: border-box;padding-bottom: 0.4em;background-color: white;}#sk-container-id-6 div.sk-label label {font-family: monospace;font-weight: bold;display: inline-block;line-height: 1.2em;}#sk-container-id-6 div.sk-label-container {text-align: center;}#sk-container-id-6 div.sk-container {/* jupyter's `normalize.less` sets `[hidden] { display: none; }` but bootstrap.min.css set `[hidden] { display: none !important; }` so we also need the `!important` here to be able to override the default hidden behavior on the sphinx rendered scikit-learn.org. See: https://github.com/scikit-learn/scikit-learn/issues/21755 */display: inline-block !important;position: relative;}#sk-container-id-6 div.sk-text-repr-fallback {display: none;}</style><div id=\"sk-container-id-6\" class=\"sk-top-container\"><div class=\"sk-text-repr-fallback\"><pre>StandardScaler()</pre><b>In a Jupyter environment, please rerun this cell to show the HTML representation or trust the notebook. <br />On GitHub, the HTML representation is unable to render, please try loading this page with nbviewer.org.</b></div><div class=\"sk-container\" hidden><div class=\"sk-item\"><div class=\"sk-estimator sk-toggleable\"><input class=\"sk-toggleable__control sk-hidden--visually\" id=\"sk-estimator-id-6\" type=\"checkbox\" checked><label for=\"sk-estimator-id-6\" class=\"sk-toggleable__label sk-toggleable__label-arrow\">StandardScaler</label><div class=\"sk-toggleable__content\"><pre>StandardScaler()</pre></div></div></div></div></div>"
      ],
      "text/plain": [
       "StandardScaler()"
      ]
     },
     "execution_count": 107,
     "metadata": {},
     "output_type": "execute_result"
    }
   ],
   "source": [
    "scaler.fit(X)"
   ]
  },
  {
   "cell_type": "code",
   "execution_count": 108,
   "id": "ff977a98-9014-4f95-97e1-424d14adf816",
   "metadata": {},
   "outputs": [
    {
     "data": {
      "text/plain": [
       "array([65.11827957, 63.76344086, 68.27956989, 68.2688172 , 63.81182796,\n",
       "       62.37096774, 69.3655914 , 68.58064516, 62.83870968, 61.49462366,\n",
       "       70.56451613, 69.98387097, 66.41935484, 66.37634409, 60.24731183,\n",
       "       58.74193548, 66.66129032, 66.07526882, 66.10752688, 64.59139785,\n",
       "       73.93010753, 71.75806452, 66.82795699, 65.79569892, 56.84946237,\n",
       "       54.29569892, 63.53763441, 61.72580645, 60.17741935, 58.76344086,\n",
       "       70.44086022, 69.69892473, 60.33870968, 60.18817204, 63.37096774,\n",
       "       61.72580645, 65.03225806, 63.79032258, 64.33870968, 62.10752688,\n",
       "       60.68817204, 58.32258065, 51.08602151, 48.48924731])"
      ]
     },
     "execution_count": 108,
     "metadata": {},
     "output_type": "execute_result"
    }
   ],
   "source": [
    "scaler.mean_"
   ]
  },
  {
   "cell_type": "code",
   "execution_count": 109,
   "id": "970c6ded-f03f-4b8e-ba26-1a6a06d85f23",
   "metadata": {},
   "outputs": [
    {
     "data": {
      "text/plain": [
       "array([[ 1.10275907,  1.00822796,  0.39769306, ..., -0.01996916,\n",
       "         0.4433878 ,  0.23373629],\n",
       "       [ 1.99552593,  0.02329939, -0.33324478, ...,  0.3514573 ,\n",
       "        -0.60623204, -0.43203629],\n",
       "       [ 0.76797149,  0.2202851 , -0.47943235, ...,  0.28955289,\n",
       "         0.51836064,  0.76635435],\n",
       "       ...,\n",
       "       [ 1.10275907,  0.9097351 ,  0.54388063, ...,  1.03240582,\n",
       "         1.19311626,  1.4987042 ],\n",
       "       [-0.68277466, -0.17368633,  0.54388063, ...,  1.09431023,\n",
       "         1.41803479,  1.43212694],\n",
       "       [-0.12479537,  0.2202851 , -0.04086964, ...,  0.3514573 ,\n",
       "         0.4433878 ,  0.3668908 ]])"
      ]
     },
     "execution_count": 109,
     "metadata": {},
     "output_type": "execute_result"
    }
   ],
   "source": [
    "scaler.transform(X)"
   ]
  },
  {
   "cell_type": "markdown",
   "id": "0adae78b-049a-4fb2-b5e4-2c76c999a4b8",
   "metadata": {},
   "source": [
    "Step:5"
   ]
  },
  {
   "cell_type": "code",
   "execution_count": 110,
   "id": "49e3d856-c681-481f-bd48-7bdf17d0bcd2",
   "metadata": {},
   "outputs": [],
   "source": [
    "from sklearn.decomposition import PCA"
   ]
  },
  {
   "cell_type": "code",
   "execution_count": 111,
   "id": "c2b29dba-18b7-4323-9cd9-67fe8086e7b7",
   "metadata": {},
   "outputs": [
    {
     "name": "stdout",
     "output_type": "stream",
     "text": [
      "<class 'pandas.core.frame.DataFrame'>\n",
      "RangeIndex: 186 entries, 0 to 185\n",
      "Data columns (total 44 columns):\n",
      " #   Column  Non-Null Count  Dtype\n",
      "---  ------  --------------  -----\n",
      " 0    67     186 non-null    int64\n",
      " 1    68     186 non-null    int64\n",
      " 2    73     186 non-null    int64\n",
      " 3    78     186 non-null    int64\n",
      " 4    65     186 non-null    int64\n",
      " 5    63     186 non-null    int64\n",
      " 6    67.1   186 non-null    int64\n",
      " 7    60     186 non-null    int64\n",
      " 8    63.1   186 non-null    int64\n",
      " 9    62     186 non-null    int64\n",
      " 10   71     186 non-null    int64\n",
      " 11   68.1   186 non-null    int64\n",
      " 12   76     186 non-null    int64\n",
      " 13   73.1   186 non-null    int64\n",
      " 14   59     186 non-null    int64\n",
      " 15   61     186 non-null    int64\n",
      " 16   62.1   186 non-null    int64\n",
      " 17   56     186 non-null    int64\n",
      " 18   74     186 non-null    int64\n",
      " 19   73.2   186 non-null    int64\n",
      " 20   78.1   186 non-null    int64\n",
      " 21   76.1   186 non-null    int64\n",
      " 22   79     186 non-null    int64\n",
      " 23   79.1   186 non-null    int64\n",
      " 24   70     186 non-null    int64\n",
      " 25   70.1   186 non-null    int64\n",
      " 26   68.2   186 non-null    int64\n",
      " 27   67.2   186 non-null    int64\n",
      " 28   65.1   186 non-null    int64\n",
      " 29   67.3   186 non-null    int64\n",
      " 30   76.2   186 non-null    int64\n",
      " 31   75     186 non-null    int64\n",
      " 32   63.2   186 non-null    int64\n",
      " 33   61.1   186 non-null    int64\n",
      " 34   61.2   186 non-null    int64\n",
      " 35   56.1   186 non-null    int64\n",
      " 36   76.3   186 non-null    int64\n",
      " 37   75.1   186 non-null    int64\n",
      " 38   74.1   186 non-null    int64\n",
      " 39   77     186 non-null    int64\n",
      " 40   76.4   186 non-null    int64\n",
      " 41   74.2   186 non-null    int64\n",
      " 42   59.1   186 non-null    int64\n",
      " 43   68.3   186 non-null    int64\n",
      "dtypes: int64(44)\n",
      "memory usage: 64.1 KB\n"
     ]
    }
   ],
   "source": [
    "X.info()"
   ]
  },
  {
   "cell_type": "code",
   "execution_count": 112,
   "id": "89e69091-2697-4ae4-a74a-e7e759102f00",
   "metadata": {},
   "outputs": [],
   "source": [
    "pca = PCA(n_components='mle', svd_solver='full')"
   ]
  },
  {
   "cell_type": "code",
   "execution_count": 113,
   "id": "27e5183f-6b47-4d48-b189-8990ab5a73f1",
   "metadata": {},
   "outputs": [
    {
     "data": {
      "text/html": [
       "<style>#sk-container-id-7 {color: black;background-color: white;}#sk-container-id-7 pre{padding: 0;}#sk-container-id-7 div.sk-toggleable {background-color: white;}#sk-container-id-7 label.sk-toggleable__label {cursor: pointer;display: block;width: 100%;margin-bottom: 0;padding: 0.3em;box-sizing: border-box;text-align: center;}#sk-container-id-7 label.sk-toggleable__label-arrow:before {content: \"▸\";float: left;margin-right: 0.25em;color: #696969;}#sk-container-id-7 label.sk-toggleable__label-arrow:hover:before {color: black;}#sk-container-id-7 div.sk-estimator:hover label.sk-toggleable__label-arrow:before {color: black;}#sk-container-id-7 div.sk-toggleable__content {max-height: 0;max-width: 0;overflow: hidden;text-align: left;background-color: #f0f8ff;}#sk-container-id-7 div.sk-toggleable__content pre {margin: 0.2em;color: black;border-radius: 0.25em;background-color: #f0f8ff;}#sk-container-id-7 input.sk-toggleable__control:checked~div.sk-toggleable__content {max-height: 200px;max-width: 100%;overflow: auto;}#sk-container-id-7 input.sk-toggleable__control:checked~label.sk-toggleable__label-arrow:before {content: \"▾\";}#sk-container-id-7 div.sk-estimator input.sk-toggleable__control:checked~label.sk-toggleable__label {background-color: #d4ebff;}#sk-container-id-7 div.sk-label input.sk-toggleable__control:checked~label.sk-toggleable__label {background-color: #d4ebff;}#sk-container-id-7 input.sk-hidden--visually {border: 0;clip: rect(1px 1px 1px 1px);clip: rect(1px, 1px, 1px, 1px);height: 1px;margin: -1px;overflow: hidden;padding: 0;position: absolute;width: 1px;}#sk-container-id-7 div.sk-estimator {font-family: monospace;background-color: #f0f8ff;border: 1px dotted black;border-radius: 0.25em;box-sizing: border-box;margin-bottom: 0.5em;}#sk-container-id-7 div.sk-estimator:hover {background-color: #d4ebff;}#sk-container-id-7 div.sk-parallel-item::after {content: \"\";width: 100%;border-bottom: 1px solid gray;flex-grow: 1;}#sk-container-id-7 div.sk-label:hover label.sk-toggleable__label {background-color: #d4ebff;}#sk-container-id-7 div.sk-serial::before {content: \"\";position: absolute;border-left: 1px solid gray;box-sizing: border-box;top: 0;bottom: 0;left: 50%;z-index: 0;}#sk-container-id-7 div.sk-serial {display: flex;flex-direction: column;align-items: center;background-color: white;padding-right: 0.2em;padding-left: 0.2em;position: relative;}#sk-container-id-7 div.sk-item {position: relative;z-index: 1;}#sk-container-id-7 div.sk-parallel {display: flex;align-items: stretch;justify-content: center;background-color: white;position: relative;}#sk-container-id-7 div.sk-item::before, #sk-container-id-7 div.sk-parallel-item::before {content: \"\";position: absolute;border-left: 1px solid gray;box-sizing: border-box;top: 0;bottom: 0;left: 50%;z-index: -1;}#sk-container-id-7 div.sk-parallel-item {display: flex;flex-direction: column;z-index: 1;position: relative;background-color: white;}#sk-container-id-7 div.sk-parallel-item:first-child::after {align-self: flex-end;width: 50%;}#sk-container-id-7 div.sk-parallel-item:last-child::after {align-self: flex-start;width: 50%;}#sk-container-id-7 div.sk-parallel-item:only-child::after {width: 0;}#sk-container-id-7 div.sk-dashed-wrapped {border: 1px dashed gray;margin: 0 0.4em 0.5em 0.4em;box-sizing: border-box;padding-bottom: 0.4em;background-color: white;}#sk-container-id-7 div.sk-label label {font-family: monospace;font-weight: bold;display: inline-block;line-height: 1.2em;}#sk-container-id-7 div.sk-label-container {text-align: center;}#sk-container-id-7 div.sk-container {/* jupyter's `normalize.less` sets `[hidden] { display: none; }` but bootstrap.min.css set `[hidden] { display: none !important; }` so we also need the `!important` here to be able to override the default hidden behavior on the sphinx rendered scikit-learn.org. See: https://github.com/scikit-learn/scikit-learn/issues/21755 */display: inline-block !important;position: relative;}#sk-container-id-7 div.sk-text-repr-fallback {display: none;}</style><div id=\"sk-container-id-7\" class=\"sk-top-container\"><div class=\"sk-text-repr-fallback\"><pre>PCA(n_components=&#x27;mle&#x27;, svd_solver=&#x27;full&#x27;)</pre><b>In a Jupyter environment, please rerun this cell to show the HTML representation or trust the notebook. <br />On GitHub, the HTML representation is unable to render, please try loading this page with nbviewer.org.</b></div><div class=\"sk-container\" hidden><div class=\"sk-item\"><div class=\"sk-estimator sk-toggleable\"><input class=\"sk-toggleable__control sk-hidden--visually\" id=\"sk-estimator-id-7\" type=\"checkbox\" checked><label for=\"sk-estimator-id-7\" class=\"sk-toggleable__label sk-toggleable__label-arrow\">PCA</label><div class=\"sk-toggleable__content\"><pre>PCA(n_components=&#x27;mle&#x27;, svd_solver=&#x27;full&#x27;)</pre></div></div></div></div></div>"
      ],
      "text/plain": [
       "PCA(n_components='mle', svd_solver='full')"
      ]
     },
     "execution_count": 113,
     "metadata": {},
     "output_type": "execute_result"
    }
   ],
   "source": [
    "pca.fit(X)"
   ]
  },
  {
   "cell_type": "code",
   "execution_count": 114,
   "id": "a6f506ad-ffee-4e20-a8eb-1fdf95106933",
   "metadata": {},
   "outputs": [
    {
     "data": {
      "text/plain": [
       "array([0.40042059, 0.14908685, 0.07204548, 0.04897992, 0.03674898,\n",
       "       0.0325684 , 0.02780493, 0.02448697, 0.02103254, 0.01959433,\n",
       "       0.01693518, 0.01496927, 0.01315225, 0.01138862, 0.00961358,\n",
       "       0.00927528, 0.00914053, 0.00816686, 0.00699401, 0.00657774,\n",
       "       0.00624493, 0.00547937, 0.00477556])"
      ]
     },
     "execution_count": 114,
     "metadata": {},
     "output_type": "execute_result"
    }
   ],
   "source": [
    "pca.explained_variance_ratio_"
   ]
  },
  {
   "cell_type": "code",
   "execution_count": 115,
   "id": "20662a8e-3d25-41e5-ba42-cb12c01131fb",
   "metadata": {},
   "outputs": [
    {
     "data": {
      "text/plain": [
       "array([603.6534747 , 368.34024991, 256.05477726, 211.12446131,\n",
       "       182.87408489, 172.15820231, 159.07077685, 149.27842167,\n",
       "       138.34879822, 133.53488768, 124.14363695, 116.71584916,\n",
       "       109.4030573 , 101.80405781,  93.53455259,  91.87406591,\n",
       "        91.20428145,  86.20986315,  79.77971445,  77.36912632,\n",
       "        75.38642752,  70.61466365,  65.92371486])"
      ]
     },
     "execution_count": 115,
     "metadata": {},
     "output_type": "execute_result"
    }
   ],
   "source": [
    "pca.singular_values_"
   ]
  },
  {
   "cell_type": "code",
   "execution_count": 116,
   "id": "91b5df9e-25a9-4931-a9a2-61aedeb93255",
   "metadata": {},
   "outputs": [],
   "source": [
    "X_new = pca.transform(X)"
   ]
  },
  {
   "cell_type": "code",
   "execution_count": 117,
   "id": "14a83d52-5898-4ddc-bc0c-b14bc24bdaff",
   "metadata": {},
   "outputs": [
    {
     "data": {
      "text/plain": [
       "(186, 23)"
      ]
     },
     "execution_count": 117,
     "metadata": {},
     "output_type": "execute_result"
    }
   ],
   "source": [
    "X_new.shape"
   ]
  },
  {
   "cell_type": "markdown",
   "id": "4db3fe05-5d50-469e-8225-794f6b5a73e5",
   "metadata": {},
   "source": [
    "Step:6"
   ]
  },
  {
   "cell_type": "code",
   "execution_count": 118,
   "id": "2a941662-41eb-425e-b47c-000b59d702dc",
   "metadata": {},
   "outputs": [],
   "source": [
    "PCA_start_time = time.time()"
   ]
  },
  {
   "cell_type": "code",
   "execution_count": 119,
   "id": "fa7bd1fc-a0fd-4066-a4eb-0b749b9b17eb",
   "metadata": {},
   "outputs": [],
   "source": [
    "newModel = LogisticRegression(random_state = 1).fit(X_new, Y)"
   ]
  },
  {
   "cell_type": "code",
   "execution_count": 120,
   "id": "9cb389ac-62cd-43bd-bc9d-a1f0d7a4db09",
   "metadata": {},
   "outputs": [
    {
     "data": {
      "text/plain": [
       "array([1, 1, 1, 1, 1, 1, 1, 1, 1, 1, 1, 1, 1, 1, 1, 1, 1, 1, 1, 1, 1, 1,\n",
       "       1, 1, 1, 1, 1, 1, 1, 1, 0, 1, 1, 1, 1, 1, 1, 1, 1, 1, 1, 1, 1, 1,\n",
       "       1, 1, 1, 1, 1, 1, 1, 1, 1, 1, 1, 1, 1, 1, 1, 1, 1, 1, 1, 1, 1, 1,\n",
       "       1, 1, 1, 1, 1, 1, 1, 1, 1, 1, 1, 1, 1, 1, 1, 1, 1, 1, 1, 1, 1, 1,\n",
       "       1, 1, 1, 1, 1, 1, 1, 1, 1, 1, 1, 1, 1, 1, 1, 1, 1, 1, 1, 1, 1, 1,\n",
       "       1, 1, 1, 1, 1, 1, 1, 1, 1, 1, 1, 1, 0, 1, 1, 1, 1, 1, 1, 1, 1, 1,\n",
       "       1, 1, 1, 1, 1, 1, 1, 1, 1, 1, 1, 1, 1, 1, 1, 1, 1, 1, 1, 1, 1, 1,\n",
       "       1, 1, 1, 1, 1, 1, 1, 1, 1, 1, 1, 1, 1, 1, 1, 1, 1, 1, 1, 1, 1, 1,\n",
       "       0, 1, 1, 1, 1, 1, 1, 0, 1, 1])"
      ]
     },
     "execution_count": 120,
     "metadata": {},
     "output_type": "execute_result"
    }
   ],
   "source": [
    "newModel.predict(X_new)"
   ]
  },
  {
   "cell_type": "code",
   "execution_count": 121,
   "id": "77ad2e77-2c80-4c31-9017-be7603f4dbf9",
   "metadata": {},
   "outputs": [
    {
     "data": {
      "text/plain": [
       "array([[1.23565946e-02, 9.87643405e-01],\n",
       "       [2.25858311e-02, 9.77414169e-01],\n",
       "       [3.22343089e-02, 9.67765691e-01],\n",
       "       [7.48634063e-03, 9.92513659e-01],\n",
       "       [1.88842164e-01, 8.11157836e-01],\n",
       "       [1.09066057e-02, 9.89093394e-01],\n",
       "       [1.78904243e-03, 9.98210958e-01],\n",
       "       [4.53528036e-04, 9.99546472e-01],\n",
       "       [1.31354714e-02, 9.86864529e-01],\n",
       "       [2.87642387e-03, 9.97123576e-01],\n",
       "       [9.06390991e-05, 9.99909361e-01],\n",
       "       [3.66056557e-02, 9.63394344e-01],\n",
       "       [3.15898349e-07, 9.99999684e-01],\n",
       "       [9.17239273e-09, 9.99999991e-01],\n",
       "       [3.49594965e-06, 9.99996504e-01],\n",
       "       [6.85777782e-02, 9.31422222e-01],\n",
       "       [2.06243190e-02, 9.79375681e-01],\n",
       "       [5.06010625e-04, 9.99493989e-01],\n",
       "       [3.59038252e-02, 9.64096175e-01],\n",
       "       [2.23435711e-03, 9.97765643e-01],\n",
       "       [1.82778014e-06, 9.99998172e-01],\n",
       "       [9.74553431e-06, 9.99990254e-01],\n",
       "       [6.47902080e-02, 9.35209792e-01],\n",
       "       [2.51249425e-02, 9.74875058e-01],\n",
       "       [5.82756765e-05, 9.99941724e-01],\n",
       "       [8.29537056e-02, 9.17046294e-01],\n",
       "       [4.31282171e-02, 9.56871783e-01],\n",
       "       [4.00714247e-02, 9.59928575e-01],\n",
       "       [4.10378037e-01, 5.89621963e-01],\n",
       "       [3.58506888e-01, 6.41493112e-01],\n",
       "       [5.26253218e-01, 4.73746782e-01],\n",
       "       [5.65227362e-08, 9.99999943e-01],\n",
       "       [4.06429535e-03, 9.95935705e-01],\n",
       "       [1.68745078e-01, 8.31254922e-01],\n",
       "       [3.67376905e-01, 6.32623095e-01],\n",
       "       [3.33341399e-02, 9.66665860e-01],\n",
       "       [1.21379897e-06, 9.99998786e-01],\n",
       "       [3.59095011e-05, 9.99964090e-01],\n",
       "       [1.06850354e-06, 9.99998931e-01],\n",
       "       [1.66815435e-06, 9.99998332e-01],\n",
       "       [7.66494194e-02, 9.23350581e-01],\n",
       "       [1.26948065e-03, 9.98730519e-01],\n",
       "       [5.45404388e-10, 9.99999999e-01],\n",
       "       [6.53697995e-04, 9.99346302e-01],\n",
       "       [6.67881039e-02, 9.33211896e-01],\n",
       "       [1.66375510e-02, 9.83362449e-01],\n",
       "       [1.48383854e-04, 9.99851616e-01],\n",
       "       [2.17071811e-01, 7.82928189e-01],\n",
       "       [1.54481467e-02, 9.84551853e-01],\n",
       "       [6.09967497e-02, 9.39003250e-01],\n",
       "       [2.76568183e-05, 9.99972343e-01],\n",
       "       [4.62725501e-04, 9.99537274e-01],\n",
       "       [2.72982279e-03, 9.97270177e-01],\n",
       "       [1.17401743e-01, 8.82598257e-01],\n",
       "       [9.89149630e-02, 9.01085037e-01],\n",
       "       [1.82774564e-07, 9.99999817e-01],\n",
       "       [7.00285536e-05, 9.99929971e-01],\n",
       "       [3.67830463e-03, 9.96321695e-01],\n",
       "       [2.74511887e-02, 9.72548811e-01],\n",
       "       [8.73788401e-02, 9.12621160e-01],\n",
       "       [9.31967177e-02, 9.06803282e-01],\n",
       "       [9.31979645e-02, 9.06802035e-01],\n",
       "       [2.74228910e-03, 9.97257711e-01],\n",
       "       [1.17833842e-01, 8.82166158e-01],\n",
       "       [1.07074578e-06, 9.99998929e-01],\n",
       "       [1.81447669e-02, 9.81855233e-01],\n",
       "       [1.75562015e-03, 9.98244380e-01],\n",
       "       [3.87230093e-02, 9.61276991e-01],\n",
       "       [3.26557228e-07, 9.99999673e-01],\n",
       "       [5.49590340e-04, 9.99450410e-01],\n",
       "       [1.53786777e-02, 9.84621322e-01],\n",
       "       [9.62636632e-02, 9.03736337e-01],\n",
       "       [6.87542659e-07, 9.99999312e-01],\n",
       "       [3.75609900e-02, 9.62439010e-01],\n",
       "       [2.97765339e-02, 9.70223466e-01],\n",
       "       [9.26308336e-05, 9.99907369e-01],\n",
       "       [3.81079170e-03, 9.96189208e-01],\n",
       "       [1.13421738e-01, 8.86578262e-01],\n",
       "       [7.13104834e-05, 9.99928690e-01],\n",
       "       [1.71445266e-05, 9.99982855e-01],\n",
       "       [7.41311414e-03, 9.92586886e-01],\n",
       "       [8.33438970e-06, 9.99991666e-01],\n",
       "       [2.23183544e-02, 9.77681646e-01],\n",
       "       [2.89105986e-04, 9.99710894e-01],\n",
       "       [1.10024497e-08, 9.99999989e-01],\n",
       "       [6.42870449e-04, 9.99357130e-01],\n",
       "       [5.18857800e-07, 9.99999481e-01],\n",
       "       [6.11541454e-02, 9.38845855e-01],\n",
       "       [1.11896915e-03, 9.98881031e-01],\n",
       "       [1.00922305e-01, 8.99077695e-01],\n",
       "       [3.51200448e-08, 9.99999965e-01],\n",
       "       [4.61352074e-03, 9.95386479e-01],\n",
       "       [5.06374472e-04, 9.99493626e-01],\n",
       "       [2.94107885e-02, 9.70589211e-01],\n",
       "       [1.65793629e-02, 9.83420637e-01],\n",
       "       [3.73584082e-02, 9.62641592e-01],\n",
       "       [3.30475727e-02, 9.66952427e-01],\n",
       "       [1.84065001e-03, 9.98159350e-01],\n",
       "       [8.40606068e-04, 9.99159394e-01],\n",
       "       [3.91173430e-02, 9.60882657e-01],\n",
       "       [1.63289522e-01, 8.36710478e-01],\n",
       "       [9.92270867e-03, 9.90077291e-01],\n",
       "       [5.51978027e-04, 9.99448022e-01],\n",
       "       [1.72854619e-02, 9.82714538e-01],\n",
       "       [5.48279150e-02, 9.45172085e-01],\n",
       "       [2.96004265e-01, 7.03995735e-01],\n",
       "       [3.40802000e-01, 6.59198000e-01],\n",
       "       [1.58117841e-01, 8.41882159e-01],\n",
       "       [3.19826698e-01, 6.80173302e-01],\n",
       "       [2.05192943e-01, 7.94807057e-01],\n",
       "       [7.13549868e-04, 9.99286450e-01],\n",
       "       [3.14033741e-03, 9.96859663e-01],\n",
       "       [5.96332283e-03, 9.94036677e-01],\n",
       "       [1.73995030e-01, 8.26004970e-01],\n",
       "       [1.82961613e-01, 8.17038387e-01],\n",
       "       [5.02770836e-02, 9.49722916e-01],\n",
       "       [2.94861873e-02, 9.70513813e-01],\n",
       "       [3.44586127e-02, 9.65541387e-01],\n",
       "       [6.08379043e-02, 9.39162096e-01],\n",
       "       [2.40367675e-01, 7.59632325e-01],\n",
       "       [5.54442522e-02, 9.44555748e-01],\n",
       "       [8.29569152e-02, 9.17043085e-01],\n",
       "       [5.31559404e-01, 4.68440596e-01],\n",
       "       [3.15764736e-02, 9.68423526e-01],\n",
       "       [2.96903535e-01, 7.03096465e-01],\n",
       "       [1.05070507e-02, 9.89492949e-01],\n",
       "       [1.30811285e-01, 8.69188715e-01],\n",
       "       [1.90897942e-01, 8.09102058e-01],\n",
       "       [1.30053903e-01, 8.69946097e-01],\n",
       "       [9.88905430e-05, 9.99901109e-01],\n",
       "       [1.62245017e-03, 9.98377550e-01],\n",
       "       [9.90630488e-02, 9.00936951e-01],\n",
       "       [1.45472236e-03, 9.98545278e-01],\n",
       "       [1.19080384e-01, 8.80919616e-01],\n",
       "       [2.31317402e-03, 9.97686826e-01],\n",
       "       [2.20872477e-04, 9.99779128e-01],\n",
       "       [7.74134626e-04, 9.99225865e-01],\n",
       "       [9.61548928e-03, 9.90384511e-01],\n",
       "       [2.54479144e-08, 9.99999975e-01],\n",
       "       [1.75880393e-03, 9.98241196e-01],\n",
       "       [1.02190836e-03, 9.98978092e-01],\n",
       "       [3.15669680e-02, 9.68433032e-01],\n",
       "       [1.82272483e-02, 9.81772752e-01],\n",
       "       [1.13880276e-04, 9.99886120e-01],\n",
       "       [1.91299106e-01, 8.08700894e-01],\n",
       "       [2.55467106e-04, 9.99744533e-01],\n",
       "       [6.41171279e-02, 9.35882872e-01],\n",
       "       [9.18771185e-07, 9.99999081e-01],\n",
       "       [1.48503016e-01, 8.51496984e-01],\n",
       "       [1.52711819e-01, 8.47288181e-01],\n",
       "       [1.11744485e-02, 9.88825552e-01],\n",
       "       [5.43765688e-02, 9.45623431e-01],\n",
       "       [1.75770177e-02, 9.82422982e-01],\n",
       "       [2.70732250e-03, 9.97292678e-01],\n",
       "       [3.43873551e-01, 6.56126449e-01],\n",
       "       [1.48524369e-01, 8.51475631e-01],\n",
       "       [2.57302069e-09, 9.99999997e-01],\n",
       "       [6.08191719e-10, 9.99999999e-01],\n",
       "       [3.02269078e-05, 9.99969773e-01],\n",
       "       [6.30668962e-02, 9.36933104e-01],\n",
       "       [1.73888901e-01, 8.26111099e-01],\n",
       "       [7.21820158e-03, 9.92781798e-01],\n",
       "       [3.10212414e-01, 6.89787586e-01],\n",
       "       [1.10405233e-04, 9.99889595e-01],\n",
       "       [4.47779935e-02, 9.55222006e-01],\n",
       "       [1.48549521e-01, 8.51450479e-01],\n",
       "       [6.73675680e-05, 9.99932632e-01],\n",
       "       [8.04564559e-02, 9.19543544e-01],\n",
       "       [2.55583641e-01, 7.44416359e-01],\n",
       "       [1.75294583e-02, 9.82470542e-01],\n",
       "       [6.61405333e-02, 9.33859467e-01],\n",
       "       [4.55101003e-01, 5.44898997e-01],\n",
       "       [2.62967452e-01, 7.37032548e-01],\n",
       "       [1.47043623e-01, 8.52956377e-01],\n",
       "       [9.42470233e-02, 9.05752977e-01],\n",
       "       [3.67801230e-01, 6.32198770e-01],\n",
       "       [6.56617264e-01, 3.43382736e-01],\n",
       "       [1.18049620e-01, 8.81950380e-01],\n",
       "       [1.91118050e-01, 8.08881950e-01],\n",
       "       [4.60234254e-01, 5.39765746e-01],\n",
       "       [2.31572432e-01, 7.68427568e-01],\n",
       "       [9.56807505e-02, 9.04319250e-01],\n",
       "       [5.42809818e-02, 9.45719018e-01],\n",
       "       [5.96425409e-01, 4.03574591e-01],\n",
       "       [4.37795021e-01, 5.62204979e-01],\n",
       "       [3.68467984e-02, 9.63153202e-01]])"
      ]
     },
     "execution_count": 121,
     "metadata": {},
     "output_type": "execute_result"
    }
   ],
   "source": [
    "newModel.predict_proba(X_new)"
   ]
  },
  {
   "cell_type": "code",
   "execution_count": 122,
   "id": "b54d2cc2-356d-4b80-ac15-2847f3c1cb74",
   "metadata": {},
   "outputs": [
    {
     "data": {
      "text/plain": [
       "0.9193548387096774"
      ]
     },
     "execution_count": 122,
     "metadata": {},
     "output_type": "execute_result"
    }
   ],
   "source": [
    "newModel.score(X_new, Y)"
   ]
  },
  {
   "cell_type": "code",
   "execution_count": 123,
   "id": "cbb80479-1852-424b-89a9-47fbdf0fa7fc",
   "metadata": {},
   "outputs": [],
   "source": [
    "PCA_end_time = time.time()"
   ]
  },
  {
   "cell_type": "code",
   "execution_count": 124,
   "id": "e99ae6e5-3e40-4f06-be12-0bfffd226fbe",
   "metadata": {},
   "outputs": [],
   "source": [
    "PCA_time = PCA_end_time - PCA_start_time"
   ]
  },
  {
   "cell_type": "markdown",
   "id": "bff2beee-ba6c-489e-a441-e33f821d6734",
   "metadata": {},
   "source": [
    "Step:7"
   ]
  },
  {
   "cell_type": "code",
   "execution_count": 127,
   "id": "75abb473-b219-4d4e-96dd-17d481f2b5de",
   "metadata": {},
   "outputs": [
    {
     "data": {
      "text/plain": [
       "0.04342794418334961"
      ]
     },
     "execution_count": 127,
     "metadata": {},
     "output_type": "execute_result"
    }
   ],
   "source": [
    "noPCA_time"
   ]
  },
  {
   "cell_type": "code",
   "execution_count": 128,
   "id": "7cad6fc6-2015-40e6-a9c1-3bf2e438d255",
   "metadata": {},
   "outputs": [
    {
     "data": {
      "text/plain": [
       "0.04065299034118652"
      ]
     },
     "execution_count": 128,
     "metadata": {},
     "output_type": "execute_result"
    }
   ],
   "source": [
    "PCA_time"
   ]
  },
  {
   "cell_type": "code",
   "execution_count": null,
   "id": "0f210f77-6dc7-4ced-9c56-166c94fb9def",
   "metadata": {},
   "outputs": [],
   "source": []
  }
 ],
 "metadata": {
  "kernelspec": {
   "display_name": "Python 3 (ipykernel)",
   "language": "python",
   "name": "python3"
  },
  "language_info": {
   "codemirror_mode": {
    "name": "ipython",
    "version": 3
   },
   "file_extension": ".py",
   "mimetype": "text/x-python",
   "name": "python",
   "nbconvert_exporter": "python",
   "pygments_lexer": "ipython3",
   "version": "3.10.0"
  }
 },
 "nbformat": 4,
 "nbformat_minor": 5
}
