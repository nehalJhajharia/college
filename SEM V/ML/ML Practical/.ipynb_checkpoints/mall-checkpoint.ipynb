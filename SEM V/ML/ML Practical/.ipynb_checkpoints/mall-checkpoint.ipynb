{
 "cells": [
  {
   "cell_type": "code",
   "execution_count": 1,
   "id": "68c28d55",
   "metadata": {},
   "outputs": [],
   "source": [
    "import pandas as pd\n",
    "import numpy as np\n",
    "import matplotlib.pyplot as plt\n",
    "import seaborn as sns\n",
    "from sklearn.model_selection import train_test_split\n",
    "from sklearn.cluster import KMeans\n",
    "from sklearn.preprocessing import StandardScaler"
   ]
  },
  {
   "cell_type": "code",
   "execution_count": 2,
   "id": "2b198d38",
   "metadata": {},
   "outputs": [],
   "source": [
    "data = pd.read_csv('mall.csv')"
   ]
  },
  {
   "cell_type": "code",
   "execution_count": 3,
   "id": "c8fa1291",
   "metadata": {},
   "outputs": [
    {
     "name": "stdout",
     "output_type": "stream",
     "text": [
      "<class 'pandas.core.frame.DataFrame'>\n",
      "RangeIndex: 200 entries, 0 to 199\n",
      "Data columns (total 5 columns):\n",
      " #   Column                  Non-Null Count  Dtype \n",
      "---  ------                  --------------  ----- \n",
      " 0   CustomerID              200 non-null    int64 \n",
      " 1   Gender                  200 non-null    object\n",
      " 2   Age                     200 non-null    int64 \n",
      " 3   Annual Income (k$)      200 non-null    int64 \n",
      " 4   Spending Score (1-100)  200 non-null    int64 \n",
      "dtypes: int64(4), object(1)\n",
      "memory usage: 7.9+ KB\n"
     ]
    }
   ],
   "source": [
    "data.info()"
   ]
  },
  {
   "cell_type": "code",
   "execution_count": 4,
   "id": "1da14307",
   "metadata": {},
   "outputs": [
    {
     "data": {
      "text/html": [
       "<div>\n",
       "<style scoped>\n",
       "    .dataframe tbody tr th:only-of-type {\n",
       "        vertical-align: middle;\n",
       "    }\n",
       "\n",
       "    .dataframe tbody tr th {\n",
       "        vertical-align: top;\n",
       "    }\n",
       "\n",
       "    .dataframe thead th {\n",
       "        text-align: right;\n",
       "    }\n",
       "</style>\n",
       "<table border=\"1\" class=\"dataframe\">\n",
       "  <thead>\n",
       "    <tr style=\"text-align: right;\">\n",
       "      <th></th>\n",
       "      <th>CustomerID</th>\n",
       "      <th>Gender</th>\n",
       "      <th>Age</th>\n",
       "      <th>Annual Income (k$)</th>\n",
       "      <th>Spending Score (1-100)</th>\n",
       "    </tr>\n",
       "  </thead>\n",
       "  <tbody>\n",
       "    <tr>\n",
       "      <th>0</th>\n",
       "      <td>1</td>\n",
       "      <td>Male</td>\n",
       "      <td>19</td>\n",
       "      <td>15</td>\n",
       "      <td>39</td>\n",
       "    </tr>\n",
       "    <tr>\n",
       "      <th>1</th>\n",
       "      <td>2</td>\n",
       "      <td>Male</td>\n",
       "      <td>21</td>\n",
       "      <td>15</td>\n",
       "      <td>81</td>\n",
       "    </tr>\n",
       "    <tr>\n",
       "      <th>2</th>\n",
       "      <td>3</td>\n",
       "      <td>Female</td>\n",
       "      <td>20</td>\n",
       "      <td>16</td>\n",
       "      <td>6</td>\n",
       "    </tr>\n",
       "    <tr>\n",
       "      <th>3</th>\n",
       "      <td>4</td>\n",
       "      <td>Female</td>\n",
       "      <td>23</td>\n",
       "      <td>16</td>\n",
       "      <td>77</td>\n",
       "    </tr>\n",
       "    <tr>\n",
       "      <th>4</th>\n",
       "      <td>5</td>\n",
       "      <td>Female</td>\n",
       "      <td>31</td>\n",
       "      <td>17</td>\n",
       "      <td>40</td>\n",
       "    </tr>\n",
       "  </tbody>\n",
       "</table>\n",
       "</div>"
      ],
      "text/plain": [
       "   CustomerID  Gender  Age  Annual Income (k$)  Spending Score (1-100)\n",
       "0           1    Male   19                  15                      39\n",
       "1           2    Male   21                  15                      81\n",
       "2           3  Female   20                  16                       6\n",
       "3           4  Female   23                  16                      77\n",
       "4           5  Female   31                  17                      40"
      ]
     },
     "execution_count": 4,
     "metadata": {},
     "output_type": "execute_result"
    }
   ],
   "source": [
    "data.head()"
   ]
  },
  {
   "cell_type": "code",
   "execution_count": 5,
   "id": "7744f6da",
   "metadata": {},
   "outputs": [
    {
     "data": {
      "text/plain": [
       "array(['Male', 'Female'], dtype=object)"
      ]
     },
     "execution_count": 5,
     "metadata": {},
     "output_type": "execute_result"
    }
   ],
   "source": [
    "data['Gender'].unique()"
   ]
  },
  {
   "cell_type": "code",
   "execution_count": 6,
   "id": "222112a9",
   "metadata": {},
   "outputs": [],
   "source": [
    "data['Gender'].replace(to_replace = ['Male', 'Female'], value = [0, 1], inplace = True)"
   ]
  },
  {
   "cell_type": "code",
   "execution_count": 7,
   "id": "088f4203",
   "metadata": {},
   "outputs": [
    {
     "data": {
      "text/html": [
       "<div>\n",
       "<style scoped>\n",
       "    .dataframe tbody tr th:only-of-type {\n",
       "        vertical-align: middle;\n",
       "    }\n",
       "\n",
       "    .dataframe tbody tr th {\n",
       "        vertical-align: top;\n",
       "    }\n",
       "\n",
       "    .dataframe thead th {\n",
       "        text-align: right;\n",
       "    }\n",
       "</style>\n",
       "<table border=\"1\" class=\"dataframe\">\n",
       "  <thead>\n",
       "    <tr style=\"text-align: right;\">\n",
       "      <th></th>\n",
       "      <th>CustomerID</th>\n",
       "      <th>Gender</th>\n",
       "      <th>Age</th>\n",
       "      <th>Annual Income (k$)</th>\n",
       "      <th>Spending Score (1-100)</th>\n",
       "    </tr>\n",
       "  </thead>\n",
       "  <tbody>\n",
       "    <tr>\n",
       "      <th>0</th>\n",
       "      <td>1</td>\n",
       "      <td>0</td>\n",
       "      <td>19</td>\n",
       "      <td>15</td>\n",
       "      <td>39</td>\n",
       "    </tr>\n",
       "    <tr>\n",
       "      <th>1</th>\n",
       "      <td>2</td>\n",
       "      <td>0</td>\n",
       "      <td>21</td>\n",
       "      <td>15</td>\n",
       "      <td>81</td>\n",
       "    </tr>\n",
       "    <tr>\n",
       "      <th>2</th>\n",
       "      <td>3</td>\n",
       "      <td>1</td>\n",
       "      <td>20</td>\n",
       "      <td>16</td>\n",
       "      <td>6</td>\n",
       "    </tr>\n",
       "    <tr>\n",
       "      <th>3</th>\n",
       "      <td>4</td>\n",
       "      <td>1</td>\n",
       "      <td>23</td>\n",
       "      <td>16</td>\n",
       "      <td>77</td>\n",
       "    </tr>\n",
       "    <tr>\n",
       "      <th>4</th>\n",
       "      <td>5</td>\n",
       "      <td>1</td>\n",
       "      <td>31</td>\n",
       "      <td>17</td>\n",
       "      <td>40</td>\n",
       "    </tr>\n",
       "  </tbody>\n",
       "</table>\n",
       "</div>"
      ],
      "text/plain": [
       "   CustomerID  Gender  Age  Annual Income (k$)  Spending Score (1-100)\n",
       "0           1       0   19                  15                      39\n",
       "1           2       0   21                  15                      81\n",
       "2           3       1   20                  16                       6\n",
       "3           4       1   23                  16                      77\n",
       "4           5       1   31                  17                      40"
      ]
     },
     "execution_count": 7,
     "metadata": {},
     "output_type": "execute_result"
    }
   ],
   "source": [
    "data.head()"
   ]
  },
  {
   "cell_type": "code",
   "execution_count": 8,
   "id": "250a5a88",
   "metadata": {},
   "outputs": [
    {
     "data": {
      "text/html": [
       "<div>\n",
       "<style scoped>\n",
       "    .dataframe tbody tr th:only-of-type {\n",
       "        vertical-align: middle;\n",
       "    }\n",
       "\n",
       "    .dataframe tbody tr th {\n",
       "        vertical-align: top;\n",
       "    }\n",
       "\n",
       "    .dataframe thead th {\n",
       "        text-align: right;\n",
       "    }\n",
       "</style>\n",
       "<table border=\"1\" class=\"dataframe\">\n",
       "  <thead>\n",
       "    <tr style=\"text-align: right;\">\n",
       "      <th></th>\n",
       "      <th>CustomerID</th>\n",
       "      <th>Gender</th>\n",
       "      <th>Age</th>\n",
       "      <th>Annual Income (k$)</th>\n",
       "      <th>Spending Score (1-100)</th>\n",
       "    </tr>\n",
       "  </thead>\n",
       "  <tbody>\n",
       "    <tr>\n",
       "      <th>count</th>\n",
       "      <td>200.000000</td>\n",
       "      <td>200.000000</td>\n",
       "      <td>200.000000</td>\n",
       "      <td>200.000000</td>\n",
       "      <td>200.000000</td>\n",
       "    </tr>\n",
       "    <tr>\n",
       "      <th>mean</th>\n",
       "      <td>100.500000</td>\n",
       "      <td>0.560000</td>\n",
       "      <td>38.850000</td>\n",
       "      <td>60.560000</td>\n",
       "      <td>50.200000</td>\n",
       "    </tr>\n",
       "    <tr>\n",
       "      <th>std</th>\n",
       "      <td>57.879185</td>\n",
       "      <td>0.497633</td>\n",
       "      <td>13.969007</td>\n",
       "      <td>26.264721</td>\n",
       "      <td>25.823522</td>\n",
       "    </tr>\n",
       "    <tr>\n",
       "      <th>min</th>\n",
       "      <td>1.000000</td>\n",
       "      <td>0.000000</td>\n",
       "      <td>18.000000</td>\n",
       "      <td>15.000000</td>\n",
       "      <td>1.000000</td>\n",
       "    </tr>\n",
       "    <tr>\n",
       "      <th>25%</th>\n",
       "      <td>50.750000</td>\n",
       "      <td>0.000000</td>\n",
       "      <td>28.750000</td>\n",
       "      <td>41.500000</td>\n",
       "      <td>34.750000</td>\n",
       "    </tr>\n",
       "    <tr>\n",
       "      <th>50%</th>\n",
       "      <td>100.500000</td>\n",
       "      <td>1.000000</td>\n",
       "      <td>36.000000</td>\n",
       "      <td>61.500000</td>\n",
       "      <td>50.000000</td>\n",
       "    </tr>\n",
       "    <tr>\n",
       "      <th>75%</th>\n",
       "      <td>150.250000</td>\n",
       "      <td>1.000000</td>\n",
       "      <td>49.000000</td>\n",
       "      <td>78.000000</td>\n",
       "      <td>73.000000</td>\n",
       "    </tr>\n",
       "    <tr>\n",
       "      <th>max</th>\n",
       "      <td>200.000000</td>\n",
       "      <td>1.000000</td>\n",
       "      <td>70.000000</td>\n",
       "      <td>137.000000</td>\n",
       "      <td>99.000000</td>\n",
       "    </tr>\n",
       "  </tbody>\n",
       "</table>\n",
       "</div>"
      ],
      "text/plain": [
       "       CustomerID      Gender         Age  Annual Income (k$)  \\\n",
       "count  200.000000  200.000000  200.000000          200.000000   \n",
       "mean   100.500000    0.560000   38.850000           60.560000   \n",
       "std     57.879185    0.497633   13.969007           26.264721   \n",
       "min      1.000000    0.000000   18.000000           15.000000   \n",
       "25%     50.750000    0.000000   28.750000           41.500000   \n",
       "50%    100.500000    1.000000   36.000000           61.500000   \n",
       "75%    150.250000    1.000000   49.000000           78.000000   \n",
       "max    200.000000    1.000000   70.000000          137.000000   \n",
       "\n",
       "       Spending Score (1-100)  \n",
       "count              200.000000  \n",
       "mean                50.200000  \n",
       "std                 25.823522  \n",
       "min                  1.000000  \n",
       "25%                 34.750000  \n",
       "50%                 50.000000  \n",
       "75%                 73.000000  \n",
       "max                 99.000000  "
      ]
     },
     "execution_count": 8,
     "metadata": {},
     "output_type": "execute_result"
    }
   ],
   "source": [
    "data.describe()"
   ]
  },
  {
   "cell_type": "code",
   "execution_count": 9,
   "id": "d36ca669",
   "metadata": {},
   "outputs": [
    {
     "data": {
      "text/html": [
       "<div>\n",
       "<style scoped>\n",
       "    .dataframe tbody tr th:only-of-type {\n",
       "        vertical-align: middle;\n",
       "    }\n",
       "\n",
       "    .dataframe tbody tr th {\n",
       "        vertical-align: top;\n",
       "    }\n",
       "\n",
       "    .dataframe thead th {\n",
       "        text-align: right;\n",
       "    }\n",
       "</style>\n",
       "<table border=\"1\" class=\"dataframe\">\n",
       "  <thead>\n",
       "    <tr style=\"text-align: right;\">\n",
       "      <th></th>\n",
       "      <th>CustomerID</th>\n",
       "      <th>Gender</th>\n",
       "      <th>Age</th>\n",
       "      <th>Annual Income (k$)</th>\n",
       "      <th>Spending Score (1-100)</th>\n",
       "    </tr>\n",
       "  </thead>\n",
       "  <tbody>\n",
       "    <tr>\n",
       "      <th>CustomerID</th>\n",
       "      <td>1.000000</td>\n",
       "      <td>-0.057400</td>\n",
       "      <td>-0.026763</td>\n",
       "      <td>0.977548</td>\n",
       "      <td>0.013835</td>\n",
       "    </tr>\n",
       "    <tr>\n",
       "      <th>Gender</th>\n",
       "      <td>-0.057400</td>\n",
       "      <td>1.000000</td>\n",
       "      <td>-0.060867</td>\n",
       "      <td>-0.056410</td>\n",
       "      <td>0.058109</td>\n",
       "    </tr>\n",
       "    <tr>\n",
       "      <th>Age</th>\n",
       "      <td>-0.026763</td>\n",
       "      <td>-0.060867</td>\n",
       "      <td>1.000000</td>\n",
       "      <td>-0.012398</td>\n",
       "      <td>-0.327227</td>\n",
       "    </tr>\n",
       "    <tr>\n",
       "      <th>Annual Income (k$)</th>\n",
       "      <td>0.977548</td>\n",
       "      <td>-0.056410</td>\n",
       "      <td>-0.012398</td>\n",
       "      <td>1.000000</td>\n",
       "      <td>0.009903</td>\n",
       "    </tr>\n",
       "    <tr>\n",
       "      <th>Spending Score (1-100)</th>\n",
       "      <td>0.013835</td>\n",
       "      <td>0.058109</td>\n",
       "      <td>-0.327227</td>\n",
       "      <td>0.009903</td>\n",
       "      <td>1.000000</td>\n",
       "    </tr>\n",
       "  </tbody>\n",
       "</table>\n",
       "</div>"
      ],
      "text/plain": [
       "                        CustomerID    Gender       Age  Annual Income (k$)  \\\n",
       "CustomerID                1.000000 -0.057400 -0.026763            0.977548   \n",
       "Gender                   -0.057400  1.000000 -0.060867           -0.056410   \n",
       "Age                      -0.026763 -0.060867  1.000000           -0.012398   \n",
       "Annual Income (k$)        0.977548 -0.056410 -0.012398            1.000000   \n",
       "Spending Score (1-100)    0.013835  0.058109 -0.327227            0.009903   \n",
       "\n",
       "                        Spending Score (1-100)  \n",
       "CustomerID                            0.013835  \n",
       "Gender                                0.058109  \n",
       "Age                                  -0.327227  \n",
       "Annual Income (k$)                    0.009903  \n",
       "Spending Score (1-100)                1.000000  "
      ]
     },
     "execution_count": 9,
     "metadata": {},
     "output_type": "execute_result"
    }
   ],
   "source": [
    "data.corr()"
   ]
  },
  {
   "cell_type": "code",
   "execution_count": 10,
   "id": "c31e558e",
   "metadata": {},
   "outputs": [
    {
     "data": {
      "text/plain": [
       "<seaborn.axisgrid.PairGrid at 0x1261fb790>"
      ]
     },
     "execution_count": 10,
     "metadata": {},
     "output_type": "execute_result"
    },
    {
     "data": {
      "image/png": "[encoded data removed]",
      "text/plain": [
       "<Figure size 900x900 with 30 Axes>"
      ]
     },
     "metadata": {
      "needs_background": "light"
     },
     "output_type": "display_data"
    }
   ],
   "source": [
    "sns.pairplot(data)"
   ]
  },
  {
   "cell_type": "code",
   "execution_count": 11,
   "id": "b4918b4d",
   "metadata": {},
   "outputs": [
    {
     "data": {
      "text/plain": [
       "<AxesSubplot:>"
      ]
     },
     "execution_count": 11,
     "metadata": {},
     "output_type": "execute_result"
    },
    {
     "data": {
      "image/png": "[encoded data removed]",
      "text/plain": [
       "<Figure size 640x480 with 2 Axes>"
      ]
     },
     "metadata": {},
     "output_type": "display_data"
    }
   ],
   "source": [
    "sns.heatmap(data.corr())"
   ]
  },
  {
   "cell_type": "code",
   "execution_count": 12,
   "id": "f3f342bf",
   "metadata": {},
   "outputs": [
    {
     "data": {
      "text/plain": [
       "CustomerID                False\n",
       "Gender                    False\n",
       "Age                       False\n",
       "Annual Income (k$)        False\n",
       "Spending Score (1-100)    False\n",
       "dtype: bool"
      ]
     },
     "execution_count": 12,
     "metadata": {},
     "output_type": "execute_result"
    }
   ],
   "source": [
    "data.isna().any()"
   ]
  },
  {
   "cell_type": "code",
   "execution_count": 13,
   "id": "c9fd0f0a",
   "metadata": {},
   "outputs": [
    {
     "data": {
      "text/plain": [
       "array([39, 81,  6, 77, 40, 76, 94,  3, 72, 14, 99, 15, 13, 79, 35, 66, 29,\n",
       "       98, 73,  5, 82, 32, 61, 31, 87,  4, 92, 17, 26, 75, 36, 28, 65, 55,\n",
       "       47, 42, 52, 60, 54, 45, 41, 50, 46, 51, 56, 59, 48, 49, 53, 44, 57,\n",
       "       58, 43, 91, 95, 11,  9, 34, 71, 88,  7, 10, 93, 12, 97, 74, 22, 90,\n",
       "       20, 16, 89,  1, 78, 83, 27, 63, 86, 69, 24, 68, 85, 23,  8, 18])"
      ]
     },
     "execution_count": 13,
     "metadata": {},
     "output_type": "execute_result"
    }
   ],
   "source": [
    "data['Spending Score (1-100)'].unique()"
   ]
  },
  {
   "cell_type": "code",
   "execution_count": 14,
   "id": "9e8cc81d",
   "metadata": {},
   "outputs": [
    {
     "data": {
      "text/html": [
       "<div>\n",
       "<style scoped>\n",
       "    .dataframe tbody tr th:only-of-type {\n",
       "        vertical-align: middle;\n",
       "    }\n",
       "\n",
       "    .dataframe tbody tr th {\n",
       "        vertical-align: top;\n",
       "    }\n",
       "\n",
       "    .dataframe thead th {\n",
       "        text-align: right;\n",
       "    }\n",
       "</style>\n",
       "<table border=\"1\" class=\"dataframe\">\n",
       "  <thead>\n",
       "    <tr style=\"text-align: right;\">\n",
       "      <th></th>\n",
       "      <th>CustomerID</th>\n",
       "      <th>Gender</th>\n",
       "      <th>Age</th>\n",
       "      <th>Annual Income (k$)</th>\n",
       "    </tr>\n",
       "  </thead>\n",
       "  <tbody>\n",
       "    <tr>\n",
       "      <th>0</th>\n",
       "      <td>1</td>\n",
       "      <td>0</td>\n",
       "      <td>19</td>\n",
       "      <td>15</td>\n",
       "    </tr>\n",
       "    <tr>\n",
       "      <th>1</th>\n",
       "      <td>2</td>\n",
       "      <td>0</td>\n",
       "      <td>21</td>\n",
       "      <td>15</td>\n",
       "    </tr>\n",
       "    <tr>\n",
       "      <th>2</th>\n",
       "      <td>3</td>\n",
       "      <td>1</td>\n",
       "      <td>20</td>\n",
       "      <td>16</td>\n",
       "    </tr>\n",
       "    <tr>\n",
       "      <th>3</th>\n",
       "      <td>4</td>\n",
       "      <td>1</td>\n",
       "      <td>23</td>\n",
       "      <td>16</td>\n",
       "    </tr>\n",
       "    <tr>\n",
       "      <th>4</th>\n",
       "      <td>5</td>\n",
       "      <td>1</td>\n",
       "      <td>31</td>\n",
       "      <td>17</td>\n",
       "    </tr>\n",
       "    <tr>\n",
       "      <th>...</th>\n",
       "      <td>...</td>\n",
       "      <td>...</td>\n",
       "      <td>...</td>\n",
       "      <td>...</td>\n",
       "    </tr>\n",
       "    <tr>\n",
       "      <th>195</th>\n",
       "      <td>196</td>\n",
       "      <td>1</td>\n",
       "      <td>35</td>\n",
       "      <td>120</td>\n",
       "    </tr>\n",
       "    <tr>\n",
       "      <th>196</th>\n",
       "      <td>197</td>\n",
       "      <td>1</td>\n",
       "      <td>45</td>\n",
       "      <td>126</td>\n",
       "    </tr>\n",
       "    <tr>\n",
       "      <th>197</th>\n",
       "      <td>198</td>\n",
       "      <td>0</td>\n",
       "      <td>32</td>\n",
       "      <td>126</td>\n",
       "    </tr>\n",
       "    <tr>\n",
       "      <th>198</th>\n",
       "      <td>199</td>\n",
       "      <td>0</td>\n",
       "      <td>32</td>\n",
       "      <td>137</td>\n",
       "    </tr>\n",
       "    <tr>\n",
       "      <th>199</th>\n",
       "      <td>200</td>\n",
       "      <td>0</td>\n",
       "      <td>30</td>\n",
       "      <td>137</td>\n",
       "    </tr>\n",
       "  </tbody>\n",
       "</table>\n",
       "<p>200 rows × 4 columns</p>\n",
       "</div>"
      ],
      "text/plain": [
       "     CustomerID  Gender  Age  Annual Income (k$)\n",
       "0             1       0   19                  15\n",
       "1             2       0   21                  15\n",
       "2             3       1   20                  16\n",
       "3             4       1   23                  16\n",
       "4             5       1   31                  17\n",
       "..          ...     ...  ...                 ...\n",
       "195         196       1   35                 120\n",
       "196         197       1   45                 126\n",
       "197         198       0   32                 126\n",
       "198         199       0   32                 137\n",
       "199         200       0   30                 137\n",
       "\n",
       "[200 rows x 4 columns]"
      ]
     },
     "execution_count": 14,
     "metadata": {},
     "output_type": "execute_result"
    }
   ],
   "source": [
    "X = data.iloc[:,:-1]\n",
    "X"
   ]
  },
  {
   "cell_type": "code",
   "execution_count": 15,
   "id": "b9f74810",
   "metadata": {},
   "outputs": [
    {
     "data": {
      "text/plain": [
       "0      39\n",
       "1      81\n",
       "2       6\n",
       "3      77\n",
       "4      40\n",
       "       ..\n",
       "195    79\n",
       "196    28\n",
       "197    74\n",
       "198    18\n",
       "199    83\n",
       "Name: Spending Score (1-100), Length: 200, dtype: int64"
      ]
     },
     "execution_count": 15,
     "metadata": {},
     "output_type": "execute_result"
    }
   ],
   "source": [
    "y = data.iloc[:,-1]\n",
    "y"
   ]
  },
  {
   "cell_type": "code",
   "execution_count": 16,
   "id": "4d636cb1",
   "metadata": {},
   "outputs": [],
   "source": [
    "X_train, X_test, y_train, y_test = train_test_split(X, y, test_size=0.30, random_state=10)"
   ]
  },
  {
   "cell_type": "code",
   "execution_count": 17,
   "id": "960e90f8",
   "metadata": {},
   "outputs": [
    {
     "data": {
      "text/html": [
       "<style>#sk-container-id-1 {color: black;background-color: white;}#sk-container-id-1 pre{padding: 0;}#sk-container-id-1 div.sk-toggleable {background-color: white;}#sk-container-id-1 label.sk-toggleable__label {cursor: pointer;display: block;width: 100%;margin-bottom: 0;padding: 0.3em;box-sizing: border-box;text-align: center;}#sk-container-id-1 label.sk-toggleable__label-arrow:before {content: \"▸\";float: left;margin-right: 0.25em;color: #696969;}#sk-container-id-1 label.sk-toggleable__label-arrow:hover:before {color: black;}#sk-container-id-1 div.sk-estimator:hover label.sk-toggleable__label-arrow:before {color: black;}#sk-container-id-1 div.sk-toggleable__content {max-height: 0;max-width: 0;overflow: hidden;text-align: left;background-color: #f0f8ff;}#sk-container-id-1 div.sk-toggleable__content pre {margin: 0.2em;color: black;border-radius: 0.25em;background-color: #f0f8ff;}#sk-container-id-1 input.sk-toggleable__control:checked~div.sk-toggleable__content {max-height: 200px;max-width: 100%;overflow: auto;}#sk-container-id-1 input.sk-toggleable__control:checked~label.sk-toggleable__label-arrow:before {content: \"▾\";}#sk-container-id-1 div.sk-estimator input.sk-toggleable__control:checked~label.sk-toggleable__label {background-color: #d4ebff;}#sk-container-id-1 div.sk-label input.sk-toggleable__control:checked~label.sk-toggleable__label {background-color: #d4ebff;}#sk-container-id-1 input.sk-hidden--visually {border: 0;clip: rect(1px 1px 1px 1px);clip: rect(1px, 1px, 1px, 1px);height: 1px;margin: -1px;overflow: hidden;padding: 0;position: absolute;width: 1px;}#sk-container-id-1 div.sk-estimator {font-family: monospace;background-color: #f0f8ff;border: 1px dotted black;border-radius: 0.25em;box-sizing: border-box;margin-bottom: 0.5em;}#sk-container-id-1 div.sk-estimator:hover {background-color: #d4ebff;}#sk-container-id-1 div.sk-parallel-item::after {content: \"\";width: 100%;border-bottom: 1px solid gray;flex-grow: 1;}#sk-container-id-1 div.sk-label:hover label.sk-toggleable__label {background-color: #d4ebff;}#sk-container-id-1 div.sk-serial::before {content: \"\";position: absolute;border-left: 1px solid gray;box-sizing: border-box;top: 0;bottom: 0;left: 50%;z-index: 0;}#sk-container-id-1 div.sk-serial {display: flex;flex-direction: column;align-items: center;background-color: white;padding-right: 0.2em;padding-left: 0.2em;position: relative;}#sk-container-id-1 div.sk-item {position: relative;z-index: 1;}#sk-container-id-1 div.sk-parallel {display: flex;align-items: stretch;justify-content: center;background-color: white;position: relative;}#sk-container-id-1 div.sk-item::before, #sk-container-id-1 div.sk-parallel-item::before {content: \"\";position: absolute;border-left: 1px solid gray;box-sizing: border-box;top: 0;bottom: 0;left: 50%;z-index: -1;}#sk-container-id-1 div.sk-parallel-item {display: flex;flex-direction: column;z-index: 1;position: relative;background-color: white;}#sk-container-id-1 div.sk-parallel-item:first-child::after {align-self: flex-end;width: 50%;}#sk-container-id-1 div.sk-parallel-item:last-child::after {align-self: flex-start;width: 50%;}#sk-container-id-1 div.sk-parallel-item:only-child::after {width: 0;}#sk-container-id-1 div.sk-dashed-wrapped {border: 1px dashed gray;margin: 0 0.4em 0.5em 0.4em;box-sizing: border-box;padding-bottom: 0.4em;background-color: white;}#sk-container-id-1 div.sk-label label {font-family: monospace;font-weight: bold;display: inline-block;line-height: 1.2em;}#sk-container-id-1 div.sk-label-container {text-align: center;}#sk-container-id-1 div.sk-container {/* jupyter's `normalize.less` sets `[hidden] { display: none; }` but bootstrap.min.css set `[hidden] { display: none !important; }` so we also need the `!important` here to be able to override the default hidden behavior on the sphinx rendered scikit-learn.org. See: https://github.com/scikit-learn/scikit-learn/issues/21755 */display: inline-block !important;position: relative;}#sk-container-id-1 div.sk-text-repr-fallback {display: none;}</style><div id=\"sk-container-id-1\" class=\"sk-top-container\"><div class=\"sk-text-repr-fallback\"><pre>StandardScaler()</pre><b>In a Jupyter environment, please rerun this cell to show the HTML representation or trust the notebook. <br />On GitHub, the HTML representation is unable to render, please try loading this page with nbviewer.org.</b></div><div class=\"sk-container\" hidden><div class=\"sk-item\"><div class=\"sk-estimator sk-toggleable\"><input class=\"sk-toggleable__control sk-hidden--visually\" id=\"sk-estimator-id-1\" type=\"checkbox\" checked><label for=\"sk-estimator-id-1\" class=\"sk-toggleable__label sk-toggleable__label-arrow\">StandardScaler</label><div class=\"sk-toggleable__content\"><pre>StandardScaler()</pre></div></div></div></div></div>"
      ],
      "text/plain": [
       "StandardScaler()"
      ]
     },
     "execution_count": 17,
     "metadata": {},
     "output_type": "execute_result"
    }
   ],
   "source": [
    "scaler = StandardScaler()\n",
    "scaler.fit(X)"
   ]
  },
  {
   "cell_type": "code",
   "execution_count": 19,
   "id": "b3806371",
   "metadata": {},
   "outputs": [
    {
     "data": {
      "text/plain": [
       "array([100.5 ,   0.56,  38.85,  60.56])"
      ]
     },
     "execution_count": 19,
     "metadata": {},
     "output_type": "execute_result"
    }
   ],
   "source": [
    "scaler.mean_"
   ]
  },
  {
   "cell_type": "code",
   "execution_count": 20,
   "id": "96da3dd2",
   "metadata": {},
   "outputs": [
    {
     "data": {
      "text/plain": [
       "array([[-1.7234121 , -1.12815215, -1.42456879, -1.73899919],\n",
       "       [-1.70609137, -1.12815215, -1.28103541, -1.73899919],\n",
       "       [-1.68877065,  0.88640526, -1.3528021 , -1.70082976],\n",
       "       [-1.67144992,  0.88640526, -1.13750203, -1.70082976],\n",
       "       [-1.6541292 ,  0.88640526, -0.56336851, -1.66266033],\n",
       "       [-1.63680847,  0.88640526, -1.20926872, -1.66266033],\n",
       "       [-1.61948775,  0.88640526, -0.27630176, -1.62449091],\n",
       "       [-1.60216702,  0.88640526, -1.13750203, -1.62449091],\n",
       "       [-1.5848463 , -1.12815215,  1.80493225, -1.58632148],\n",
       "       [-1.56752558,  0.88640526, -0.6351352 , -1.58632148],\n",
       "       [-1.55020485, -1.12815215,  2.02023231, -1.58632148],\n",
       "       [-1.53288413,  0.88640526, -0.27630176, -1.58632148],\n",
       "       [-1.5155634 ,  0.88640526,  1.37433211, -1.54815205],\n",
       "       [-1.49824268,  0.88640526, -1.06573534, -1.54815205],\n",
       "       [-1.48092195, -1.12815215, -0.13276838, -1.54815205],\n",
       "       [-1.46360123, -1.12815215, -1.20926872, -1.54815205],\n",
       "       [-1.4462805 ,  0.88640526, -0.27630176, -1.50998262],\n",
       "       [-1.42895978, -1.12815215, -1.3528021 , -1.50998262],\n",
       "       [-1.41163905, -1.12815215,  0.94373197, -1.43364376],\n",
       "       [-1.39431833,  0.88640526, -0.27630176, -1.43364376],\n",
       "       [-1.3769976 , -1.12815215, -0.27630176, -1.39547433],\n",
       "       [-1.35967688, -1.12815215, -0.99396865, -1.39547433],\n",
       "       [-1.34235616,  0.88640526,  0.51313183, -1.3573049 ],\n",
       "       [-1.32503543, -1.12815215, -0.56336851, -1.3573049 ],\n",
       "       [-1.30771471,  0.88640526,  1.08726535, -1.24279661],\n",
       "       [-1.29039398, -1.12815215, -0.70690189, -1.24279661],\n",
       "       [-1.27307326,  0.88640526,  0.44136514, -1.24279661],\n",
       "       [-1.25575253, -1.12815215, -0.27630176, -1.24279661],\n",
       "       [-1.23843181,  0.88640526,  0.08253169, -1.20462718],\n",
       "       [-1.22111108,  0.88640526, -1.13750203, -1.20462718],\n",
       "       [-1.20379036, -1.12815215,  1.51786549, -1.16645776],\n",
       "       [-1.18646963,  0.88640526, -1.28103541, -1.16645776],\n",
       "       [-1.16914891, -1.12815215,  1.01549866, -1.05194947],\n",
       "       [-1.15182818, -1.12815215, -1.49633548, -1.05194947],\n",
       "       [-1.13450746,  0.88640526,  0.7284319 , -1.05194947],\n",
       "       [-1.11718674,  0.88640526, -1.28103541, -1.05194947],\n",
       "       [-1.09986601,  0.88640526,  0.22606507, -1.01378004],\n",
       "       [-1.08254529,  0.88640526, -0.6351352 , -1.01378004],\n",
       "       [-1.06522456,  0.88640526, -0.20453507, -0.89927175],\n",
       "       [-1.04790384,  0.88640526, -1.3528021 , -0.89927175],\n",
       "       [-1.03058311,  0.88640526,  1.87669894, -0.86110232],\n",
       "       [-1.01326239, -1.12815215, -1.06573534, -0.86110232],\n",
       "       [-0.99594166, -1.12815215,  0.65666521, -0.82293289],\n",
       "       [-0.97862094,  0.88640526, -0.56336851, -0.82293289],\n",
       "       [-0.96130021,  0.88640526,  0.7284319 , -0.82293289],\n",
       "       [-0.94397949,  0.88640526, -1.06573534, -0.82293289],\n",
       "       [-0.92665877,  0.88640526,  0.80019859, -0.78476346],\n",
       "       [-0.90933804,  0.88640526, -0.85043527, -0.78476346],\n",
       "       [-0.89201732,  0.88640526, -0.70690189, -0.78476346],\n",
       "       [-0.87469659,  0.88640526, -0.56336851, -0.78476346],\n",
       "       [-0.85737587,  0.88640526,  0.7284319 , -0.70842461],\n",
       "       [-0.84005514, -1.12815215, -0.41983513, -0.70842461],\n",
       "       [-0.82273442,  0.88640526, -0.56336851, -0.67025518],\n",
       "       [-0.80541369, -1.12815215,  1.4460988 , -0.67025518],\n",
       "       [-0.78809297,  0.88640526,  0.80019859, -0.67025518],\n",
       "       [-0.77077224, -1.12815215,  0.58489852, -0.67025518],\n",
       "       [-0.75345152,  0.88640526,  0.87196528, -0.63208575],\n",
       "       [-0.73613079, -1.12815215,  2.16376569, -0.63208575],\n",
       "       [-0.71881007,  0.88640526, -0.85043527, -0.55574689],\n",
       "       [-0.70148935, -1.12815215,  1.01549866, -0.55574689],\n",
       "       [-0.68416862, -1.12815215,  2.23553238, -0.55574689],\n",
       "       [-0.6668479 , -1.12815215, -1.42456879, -0.55574689],\n",
       "       [-0.64952717,  0.88640526,  2.02023231, -0.51757746],\n",
       "       [-0.63220645,  0.88640526,  1.08726535, -0.51757746],\n",
       "       [-0.61488572, -1.12815215,  1.73316556, -0.47940803],\n",
       "       [-0.597565  , -1.12815215, -1.49633548, -0.47940803],\n",
       "       [-0.58024427,  0.88640526,  0.29783176, -0.47940803],\n",
       "       [-0.56292355,  0.88640526,  2.091999  , -0.47940803],\n",
       "       [-0.54560282, -1.12815215, -1.42456879, -0.47940803],\n",
       "       [-0.5282821 ,  0.88640526, -0.49160182, -0.47940803],\n",
       "       [-0.51096138, -1.12815215,  2.23553238, -0.4412386 ],\n",
       "       [-0.49364065,  0.88640526,  0.58489852, -0.4412386 ],\n",
       "       [-0.47631993,  0.88640526,  1.51786549, -0.40306917],\n",
       "       [-0.4589992 ,  0.88640526,  1.51786549, -0.40306917],\n",
       "       [-0.44167848, -1.12815215,  1.4460988 , -0.25039146],\n",
       "       [-0.42435775, -1.12815215, -0.92220196, -0.25039146],\n",
       "       [-0.40703703,  0.88640526,  0.44136514, -0.25039146],\n",
       "       [-0.3897163 , -1.12815215,  0.08253169, -0.25039146],\n",
       "       [-0.37239558,  0.88640526, -1.13750203, -0.25039146],\n",
       "       [-0.35507485,  0.88640526,  0.7284319 , -0.25039146],\n",
       "       [-0.33775413, -1.12815215,  1.30256542, -0.25039146],\n",
       "       [-0.3204334 , -1.12815215, -0.06100169, -0.25039146],\n",
       "       [-0.30311268, -1.12815215,  2.02023231, -0.25039146],\n",
       "       [-0.28579196,  0.88640526,  0.51313183, -0.25039146],\n",
       "       [-0.26847123,  0.88640526, -1.28103541, -0.25039146],\n",
       "       [-0.25115051, -1.12815215,  0.65666521, -0.25039146],\n",
       "       [-0.23382978,  0.88640526,  1.15903204, -0.13588317],\n",
       "       [-0.21650906,  0.88640526, -1.20926872, -0.13588317],\n",
       "       [-0.19918833,  0.88640526, -0.34806844, -0.09771374],\n",
       "       [-0.18186761,  0.88640526,  0.80019859, -0.09771374],\n",
       "       [-0.16454688,  0.88640526,  2.091999  , -0.05954431],\n",
       "       [-0.14722616, -1.12815215, -1.49633548, -0.05954431],\n",
       "       [-0.12990543, -1.12815215,  0.65666521, -0.02137488],\n",
       "       [-0.11258471,  0.88640526,  0.08253169, -0.02137488],\n",
       "       [-0.09526399,  0.88640526, -0.49160182, -0.02137488],\n",
       "       [-0.07794326, -1.12815215, -1.06573534, -0.02137488],\n",
       "       [-0.06062254,  0.88640526,  0.58489852, -0.02137488],\n",
       "       [-0.04330181,  0.88640526, -0.85043527, -0.02137488],\n",
       "       [-0.02598109, -1.12815215,  0.65666521,  0.01679455],\n",
       "       [-0.00866036, -1.12815215, -1.3528021 ,  0.01679455],\n",
       "       [ 0.00866036,  0.88640526, -1.13750203,  0.05496398],\n",
       "       [ 0.02598109,  0.88640526,  0.7284319 ,  0.05496398],\n",
       "       [ 0.04330181, -1.12815215,  2.02023231,  0.05496398],\n",
       "       [ 0.06062254, -1.12815215, -0.92220196,  0.05496398],\n",
       "       [ 0.07794326, -1.12815215,  0.7284319 ,  0.05496398],\n",
       "       [ 0.09526399,  0.88640526, -1.28103541,  0.05496398],\n",
       "       [ 0.11258471,  0.88640526,  1.94846562,  0.09313341],\n",
       "       [ 0.12990543, -1.12815215,  1.08726535,  0.09313341],\n",
       "       [ 0.14722616, -1.12815215,  2.091999  ,  0.09313341],\n",
       "       [ 0.16454688, -1.12815215,  1.94846562,  0.09313341],\n",
       "       [ 0.18186761, -1.12815215,  1.87669894,  0.09313341],\n",
       "       [ 0.19918833,  0.88640526, -1.42456879,  0.09313341],\n",
       "       [ 0.21650906,  0.88640526, -0.06100169,  0.13130284],\n",
       "       [ 0.23382978, -1.12815215, -1.42456879,  0.13130284],\n",
       "       [ 0.25115051,  0.88640526, -1.49633548,  0.16947227],\n",
       "       [ 0.26847123,  0.88640526, -1.42456879,  0.16947227],\n",
       "       [ 0.28579196,  0.88640526,  1.73316556,  0.16947227],\n",
       "       [ 0.30311268,  0.88640526,  0.7284319 ,  0.16947227],\n",
       "       [ 0.3204334 ,  0.88640526,  0.87196528,  0.24581112],\n",
       "       [ 0.33775413,  0.88640526,  0.80019859,  0.24581112],\n",
       "       [ 0.35507485, -1.12815215, -0.85043527,  0.24581112],\n",
       "       [ 0.37239558,  0.88640526, -0.06100169,  0.24581112],\n",
       "       [ 0.3897163 ,  0.88640526,  0.08253169,  0.32214998],\n",
       "       [ 0.40703703, -1.12815215,  0.010765  ,  0.32214998],\n",
       "       [ 0.42435775,  0.88640526, -1.13750203,  0.36031941],\n",
       "       [ 0.44167848,  0.88640526, -0.56336851,  0.36031941],\n",
       "       [ 0.4589992 , -1.12815215,  0.29783176,  0.39848884],\n",
       "       [ 0.47631993, -1.12815215,  0.08253169,  0.39848884],\n",
       "       [ 0.49364065, -1.12815215,  1.4460988 ,  0.39848884],\n",
       "       [ 0.51096138, -1.12815215, -0.06100169,  0.39848884],\n",
       "       [ 0.5282821 , -1.12815215,  0.58489852,  0.39848884],\n",
       "       [ 0.54560282, -1.12815215,  0.010765  ,  0.39848884],\n",
       "       [ 0.56292355,  0.88640526, -0.99396865,  0.43665827],\n",
       "       [ 0.58024427,  0.88640526, -0.56336851,  0.43665827],\n",
       "       [ 0.597565  , -1.12815215, -1.3528021 ,  0.4748277 ],\n",
       "       [ 0.61488572,  0.88640526, -0.70690189,  0.4748277 ],\n",
       "       [ 0.63220645,  0.88640526,  0.36959845,  0.4748277 ],\n",
       "       [ 0.64952717, -1.12815215, -0.49160182,  0.4748277 ],\n",
       "       [ 0.6668479 , -1.12815215, -1.42456879,  0.51299713],\n",
       "       [ 0.68416862,  0.88640526, -0.27630176,  0.51299713],\n",
       "       [ 0.70148935,  0.88640526,  1.30256542,  0.55116656],\n",
       "       [ 0.71881007, -1.12815215, -0.49160182,  0.55116656],\n",
       "       [ 0.73613079,  0.88640526, -0.77866858,  0.58933599],\n",
       "       [ 0.75345152,  0.88640526, -0.49160182,  0.58933599],\n",
       "       [ 0.77077224, -1.12815215, -0.99396865,  0.62750542],\n",
       "       [ 0.78809297, -1.12815215, -0.77866858,  0.62750542],\n",
       "       [ 0.80541369, -1.12815215,  0.65666521,  0.62750542],\n",
       "       [ 0.82273442,  0.88640526, -0.49160182,  0.62750542],\n",
       "       [ 0.84005514,  0.88640526, -0.34806844,  0.66567484],\n",
       "       [ 0.85737587, -1.12815215, -0.34806844,  0.66567484],\n",
       "       [ 0.87469659, -1.12815215,  0.29783176,  0.66567484],\n",
       "       [ 0.89201732, -1.12815215,  0.010765  ,  0.66567484],\n",
       "       [ 0.90933804,  0.88640526,  0.36959845,  0.66567484],\n",
       "       [ 0.92665877,  0.88640526, -0.06100169,  0.66567484],\n",
       "       [ 0.94397949,  0.88640526,  0.58489852,  0.66567484],\n",
       "       [ 0.96130021,  0.88640526, -0.85043527,  0.66567484],\n",
       "       [ 0.97862094, -1.12815215, -0.13276838,  0.66567484],\n",
       "       [ 0.99594166,  0.88640526, -0.6351352 ,  0.66567484],\n",
       "       [ 1.01326239, -1.12815215, -0.34806844,  0.66567484],\n",
       "       [ 1.03058311,  0.88640526, -0.6351352 ,  0.66567484],\n",
       "       [ 1.04790384,  0.88640526,  1.23079873,  0.70384427],\n",
       "       [ 1.06522456,  0.88640526, -0.70690189,  0.70384427],\n",
       "       [ 1.08254529, -1.12815215, -1.42456879,  0.78018313],\n",
       "       [ 1.09986601,  0.88640526, -0.56336851,  0.78018313],\n",
       "       [ 1.11718674, -1.12815215,  0.80019859,  0.93286085],\n",
       "       [ 1.13450746,  0.88640526, -0.20453507,  0.93286085],\n",
       "       [ 1.15182818, -1.12815215,  0.22606507,  0.97103028],\n",
       "       [ 1.16914891,  0.88640526, -0.41983513,  0.97103028],\n",
       "       [ 1.18646963,  0.88640526, -0.20453507,  1.00919971],\n",
       "       [ 1.20379036, -1.12815215, -0.49160182,  1.00919971],\n",
       "       [ 1.22111108, -1.12815215,  0.08253169,  1.00919971],\n",
       "       [ 1.23843181, -1.12815215, -0.77866858,  1.00919971],\n",
       "       [ 1.25575253, -1.12815215, -0.20453507,  1.00919971],\n",
       "       [ 1.27307326, -1.12815215, -0.20453507,  1.00919971],\n",
       "       [ 1.29039398,  0.88640526,  0.94373197,  1.04736914],\n",
       "       [ 1.30771471,  0.88640526, -0.6351352 ,  1.04736914],\n",
       "       [ 1.32503543, -1.12815215,  1.37433211,  1.04736914],\n",
       "       [ 1.34235616, -1.12815215, -0.85043527,  1.04736914],\n",
       "       [ 1.35967688, -1.12815215,  1.4460988 ,  1.23821628],\n",
       "       [ 1.3769976 , -1.12815215, -0.27630176,  1.23821628],\n",
       "       [ 1.39431833,  0.88640526, -0.13276838,  1.390894  ],\n",
       "       [ 1.41163905,  0.88640526, -0.49160182,  1.390894  ],\n",
       "       [ 1.42895978, -1.12815215,  0.51313183,  1.42906343],\n",
       "       [ 1.4462805 ,  0.88640526, -0.70690189,  1.42906343],\n",
       "       [ 1.46360123,  0.88640526,  0.15429838,  1.46723286],\n",
       "       [ 1.48092195, -1.12815215, -0.6351352 ,  1.46723286],\n",
       "       [ 1.49824268,  0.88640526,  1.08726535,  1.54357172],\n",
       "       [ 1.5155634 , -1.12815215, -0.77866858,  1.54357172],\n",
       "       [ 1.53288413,  0.88640526,  0.15429838,  1.61991057],\n",
       "       [ 1.55020485,  0.88640526, -0.20453507,  1.61991057],\n",
       "       [ 1.56752558,  0.88640526, -0.34806844,  1.61991057],\n",
       "       [ 1.5848463 ,  0.88640526, -0.49160182,  1.61991057],\n",
       "       [ 1.60216702, -1.12815215, -0.41983513,  2.00160487],\n",
       "       [ 1.61948775,  0.88640526, -0.06100169,  2.00160487],\n",
       "       [ 1.63680847,  0.88640526,  0.58489852,  2.26879087],\n",
       "       [ 1.6541292 ,  0.88640526, -0.27630176,  2.26879087],\n",
       "       [ 1.67144992,  0.88640526,  0.44136514,  2.49780745],\n",
       "       [ 1.68877065, -1.12815215, -0.49160182,  2.49780745],\n",
       "       [ 1.70609137, -1.12815215, -0.49160182,  2.91767117],\n",
       "       [ 1.7234121 , -1.12815215, -0.6351352 ,  2.91767117]])"
      ]
     },
     "execution_count": 20,
     "metadata": {},
     "output_type": "execute_result"
    }
   ],
   "source": [
    "scaled_X = scaler.transform(X)\n",
    "scaled_X"
   ]
  },
  {
   "cell_type": "code",
   "execution_count": 21,
   "id": "346b6241",
   "metadata": {},
   "outputs": [],
   "source": [
    "kmeans = KMeans(n_clusters=4, random_state=0).fit(X_train)"
   ]
  },
  {
   "cell_type": "code",
   "execution_count": 22,
   "id": "9cf55970",
   "metadata": {},
   "outputs": [
    {
     "data": {
      "text/plain": [
       "array([57, 52, 95, 91, 59, 75, 48, 50, 56, 26, 28, 83, 49, 20, 44, 92, 51,\n",
       "       55,  4, 13, 42, 82, 60, 66, 16, 41, 39, 87, 77, 73, 74, 17, 85, 24,\n",
       "       68, 65, 34, 90, 69, 36, 35, 27, 15, 99,  5, 46,  6, 11, 89, 22, 14,\n",
       "       43, 12, 97, 40, 71, 47, 31, 88, 32,  8, 29, 61,  1, 58, 93, 76, 86,\n",
       "       45, 72,  3, 79, 78])"
      ]
     },
     "execution_count": 22,
     "metadata": {},
     "output_type": "execute_result"
    }
   ],
   "source": [
    "y_train.unique()\n",
    "# 73 unique values"
   ]
  },
  {
   "cell_type": "code",
   "execution_count": 24,
   "id": "973b8b1c",
   "metadata": {},
   "outputs": [
    {
     "data": {
      "text/plain": [
       "array([[182.25925926,   0.55555556,  38.03703704,  99.14814815],\n",
       "       [ 28.34210526,   0.57894737,  37.57894737,  28.92105263],\n",
       "       [ 86.34285714,   0.51428571,  45.77142857,  55.65714286],\n",
       "       [137.95      ,   0.55      ,  35.775     ,  73.125     ]])"
      ]
     },
     "execution_count": 24,
     "metadata": {},
     "output_type": "execute_result"
    }
   ],
   "source": [
    "kmeans.cluster_centers_"
   ]
  },
  {
   "cell_type": "code",
   "execution_count": 25,
   "id": "2a08baa8",
   "metadata": {},
   "outputs": [
    {
     "data": {
      "text/plain": [
       "array([2, 1, 1, 0, 1, 1, 3, 1, 2, 1, 2, 1, 2, 3, 3, 2, 2, 2, 3, 0, 3, 3,\n",
       "       2, 2, 2, 3, 3, 1, 1, 0, 3, 1, 2, 2, 1, 0, 3, 0, 1, 0, 0, 1, 1, 3,\n",
       "       2, 2, 2, 0, 2, 3, 1, 1, 2, 0, 1, 2, 0, 2, 2, 1], dtype=int32)"
      ]
     },
     "execution_count": 25,
     "metadata": {},
     "output_type": "execute_result"
    }
   ],
   "source": [
    "predicted = kmeans.predict(X_test)\n",
    "predicted"
   ]
  },
  {
   "cell_type": "code",
   "execution_count": 26,
   "id": "9dffe20a",
   "metadata": {},
   "outputs": [
    {
     "data": {
      "text/plain": [
       "array([[ 51.60406153,  60.56369323, 127.40019879,  12.89011733],\n",
       "       [ 17.4158692 , 121.97371003, 187.80340344,  66.75641005],\n",
       "       [  3.80515002, 104.06409533, 170.7628897 ,  47.93523447],\n",
       "       [213.29122306, 109.59909186,  47.77313251, 163.59512722],\n",
       "       [ 39.72588367,  67.8607835 , 133.89075296,  14.17549288],\n",
       "       [  3.1589819 , 105.3824508 , 172.08954254,  49.2795182 ],\n",
       "       [156.1691791 ,  54.22025394,  25.47780099, 107.99925618],\n",
       "       [ 44.81419976,  64.48612981, 131.55622912,  10.18757594],\n",
       "       [ 57.10790226,  50.28007496, 116.28100528,  11.14721435],\n",
       "       [ 21.1221645 , 125.40817732, 191.09150818,  70.32030004],\n",
       "       [ 90.25415503,  18.88017313,  85.36146602,  39.58731015],\n",
       "       [ 35.74184056, 117.84029844, 184.63655327,  64.50334441],\n",
       "       [ 65.4724815 ,  44.50377442, 108.77059079,  20.88054669],\n",
       "       [135.26324642,  31.79168032,  39.09312202,  86.22673519],\n",
       "       [116.65967241,  20.91257845,  58.43638123,  68.6190657 ],\n",
       "       [ 55.67446303,  56.75681402, 123.51379196,  13.58006931],\n",
       "       [105.26939647,  25.46735042,  79.67749343,  56.02581518],\n",
       "       [ 68.46760183,  43.03005853, 106.32480659,  24.8817703 ],\n",
       "       [102.44988612,  22.9991508 ,  73.7107332 ,  56.03990466],\n",
       "       [183.82141469,  78.23417372,  11.87932419, 134.19211432],\n",
       "       [147.78524678,  41.2078383 ,  29.60839078,  97.51948452],\n",
       "       [123.07238724,  16.78797002,  52.54341682,  72.63062547],\n",
       "       [ 50.83285519,  61.78965073, 125.45319031,  21.51247786],\n",
       "       [ 77.91648841,  35.23969264,  97.07710594,  32.85049657],\n",
       "       [ 99.19078838,  28.94971395,  86.32476178,  50.48498858],\n",
       "       [112.48990695,   7.0417283 ,  61.15524914,  62.56615336],\n",
       "       [129.02898576,  22.30943606,  45.84466957,  78.73638474],\n",
       "       [ 21.69437331, 126.54430425, 192.33455197,  71.33314996],\n",
       "       [ 34.29255264,  74.20721621, 139.8508927 ,  21.15350832],\n",
       "       [167.15904353,  61.00582708,   8.79483442, 117.35953471],\n",
       "       [151.7288563 ,  47.04876127,  24.26225061, 102.58268741],\n",
       "       [ 28.28979498,  84.11055782, 148.93765822,  32.19018105],\n",
       "       [ 67.25185871,  40.94002855, 107.84338304,  16.54809159],\n",
       "       [ 82.94965843,  34.25399156,  93.3259542 ,  38.80243303],\n",
       "       [ 22.97779725,  88.91125315, 154.07603978,  35.89527704],\n",
       "       [176.99947034,  70.76606487,  23.72687289, 126.38890428],\n",
       "       [119.68282737,  13.09908155,  54.12701477,  69.52127557],\n",
       "       [164.34814419,  58.71827601,  10.86468684, 114.77551256],\n",
       "       [ 37.43633485,  74.21900658, 141.25142299,  19.68428089],\n",
       "       [170.48600871,  63.86478637,  17.99901378, 120.04953964],\n",
       "       [190.02143519,  83.96255676,  16.80324708, 140.10840678],\n",
       "       [ 15.03260346, 119.61066398, 185.50420656,  64.33217553],\n",
       "       [ 15.95240316,  96.83148216, 163.91849252,  40.69588584],\n",
       "       [131.41085381,  33.12983455,  45.90587231,  83.68171132],\n",
       "       [ 46.70987583,  62.09336468, 127.40623655,  14.04306791],\n",
       "       [ 66.68692401,  49.48192536, 115.30012291,  22.24498449],\n",
       "       [ 94.06015363,  19.95209106,  80.04784072,  46.21457242],\n",
       "       [214.1509884 , 110.54788979,  48.44547963, 164.54321899],\n",
       "       [ 47.51293683,  63.67759368, 130.66002227,  12.35217298],\n",
       "       [111.27209518,  21.62373551,  71.91637155,  61.41915841],\n",
       "       [ 23.08995092,  99.40428028, 166.49775662,  44.34194128],\n",
       "       [ 29.94404504,  77.58840724, 143.7328019 ,  22.47448538],\n",
       "       [ 93.52172208,  16.39240487,  82.40684179,  42.87432514],\n",
       "       [156.53321   ,  51.38541561,  19.2564444 , 107.20687021],\n",
       "       [  8.20441954, 104.25550795, 170.1801169 ,  49.23891666],\n",
       "       [ 61.14582978,  65.10922314, 129.93091018,  29.60169569],\n",
       "       [170.28890892,  64.93909406,   9.0661605 , 120.88814912],\n",
       "       [ 69.530419  ,  55.93488122, 119.96459044,  30.71768509],\n",
       "       [ 88.32220842,  37.12763038,  98.10925561,  41.23931911],\n",
       "       [ 35.66014348,  71.69003374, 137.82975521,  17.32346654]])"
      ]
     },
     "execution_count": 26,
     "metadata": {},
     "output_type": "execute_result"
    }
   ],
   "source": [
    "mean_distance = np.array(kmeans.fit_transform(X_test))\n",
    "mean_distance"
   ]
  },
  {
   "cell_type": "code",
   "execution_count": 28,
   "id": "a52cf0ac",
   "metadata": {},
   "outputs": [
    {
     "data": {
      "text/plain": [
       "(60, 4)"
      ]
     },
     "execution_count": 28,
     "metadata": {},
     "output_type": "execute_result"
    }
   ],
   "source": [
    "np.shape(mean_distance)"
   ]
  },
  {
   "cell_type": "code",
   "execution_count": 29,
   "id": "5156e43e",
   "metadata": {},
   "outputs": [
    {
     "data": {
      "text/plain": [
       "array([87.03255465, 61.33346191, 97.56357687, 59.61583531])"
      ]
     },
     "execution_count": 29,
     "metadata": {},
     "output_type": "execute_result"
    }
   ],
   "source": [
    "mean_distance.mean(0)"
   ]
  },
  {
   "cell_type": "code",
   "execution_count": 30,
   "id": "8f0eaf49",
   "metadata": {},
   "outputs": [
    {
     "data": {
      "text/plain": [
       "array([ 63.11451772,  98.48734818,  81.64184238, 133.56464366,\n",
       "        63.91322825,  82.47762336,  85.96662255,  62.76103366,\n",
       "        58.70404921, 101.98553751,  58.52077608, 100.68050917,\n",
       "        59.90684835,  73.09369599,  66.15692445,  62.38128458,\n",
       "        66.61001387,  60.67605931,  63.7999187 , 102.03175673,\n",
       "        79.0302401 ,  66.25859989,  64.89704352,  60.77094589,\n",
       "        66.23756317,  60.81325944,  68.97986903, 102.97659487,\n",
       "        67.37604247,  88.57980993,  81.4056389 ,  73.38204802,\n",
       "        58.14584047,  62.3330093 ,  75.46509181,  99.47032809,\n",
       "        64.10754981,  87.1766549 ,  68.14776133,  93.09983712,\n",
       "       107.72391145,  96.11991238,  79.34956592,  73.532068  ,\n",
       "        62.56313624,  63.42848919,  60.06866446, 134.4218942 ,\n",
       "        63.55068144,  66.55784016,  83.33348227,  68.43493489,\n",
       "        58.79882347,  83.59548505,  82.96974026,  71.4469147 ,\n",
       "        91.29557815,  69.03689394,  66.19960338,  65.62584974])"
      ]
     },
     "execution_count": 30,
     "metadata": {},
     "output_type": "execute_result"
    }
   ],
   "source": [
    "mean_distance.mean(1)"
   ]
  },
  {
   "cell_type": "code",
   "execution_count": 31,
   "id": "c871fcf5",
   "metadata": {},
   "outputs": [
    {
     "name": "stdout",
     "output_type": "stream",
     "text": [
      "[0 0 0 0 0 0 0 0 0 0 0 0 0 0 0 0 0 0 0 0 0 0 0 0 0 0 0 0 0 0 0 0 0 0 0 0 0\n",
      " 0 0 0 0 0 0 0 0 0 0 0 0 0 0 0 0 0 0 0 0 0 0 0 0 0 0 0 0 0 0 0 0 0 0 0 0 0\n",
      " 0 0 0 0 0 0 0 0 0 0 0 0 0 0 0 0 0 0 0 0 0 0 0 0 0 0 0 0 0 0 0 0 0 0 0 0 0\n",
      " 0 0 0 0 0 0 0 0 0 0 0 0 0 0 0 0 0 0 0 0 0 0 0 0 0 0 0 0 0 0 0 0 0 0 0 0 0\n",
      " 0 0 0 0 0 0 0 0 0 0 0 0 0 0 0 0 0 0 0 0 0 0 0 0 0 0 0 0 0 0 0 0 0 0 0 0 0\n",
      " 0 0 0 0 0 0 0 0 0 0 0 0 0 0 0]\n",
      "[1 1 1 1 1 1 1 1 1 1 1 1 1 1 1 1 1 1 1 1 1 1 1 1 1 1 1 1 1 1 1 1 1 1 1 1 1\n",
      " 1 1 1 1 1 1 1 1 1 1 1 1 1 1 1 1 1 1 1 1 1 1 1 1 1 1 1 1 1 1 1 1 1 1 1 1 1\n",
      " 1 1 1 1 1 1 1 1 1 1 1 1 1 1 1 1 1 1 1 1 1 1 1 1 1 0 0 0 0 0 0 0 0 0 0 0 0\n",
      " 0 0 0 0 0 0 0 0 0 0 0 0 0 0 0 0 0 0 0 0 0 0 0 0 0 0 0 0 0 0 0 0 0 0 0 0 0\n",
      " 0 0 0 0 0 0 0 0 0 0 0 0 0 0 0 0 0 0 0 0 0 0 0 0 0 0 0 0 0 0 0 0 0 0 0 0 0\n",
      " 0 0 0 0 0 0 0 0 0 0 0 0 0 0 0]\n",
      "[0 0 0 0 0 0 0 0 0 0 0 0 0 0 0 0 0 0 0 0 0 0 0 0 0 0 0 0 0 0 0 0 0 0 0 0 0\n",
      " 0 0 0 0 0 0 0 0 0 0 0 0 0 0 0 0 0 0 0 0 0 0 0 0 0 1 1 1 1 1 1 1 1 1 1 1 1\n",
      " 1 1 1 1 1 1 1 1 1 1 1 1 1 1 1 1 1 1 1 1 1 1 1 1 1 1 1 1 1 1 1 1 1 1 1 1 1\n",
      " 1 1 1 1 1 1 1 1 1 1 1 1 1 1 1 1 1 1 1 1 1 2 2 2 2 2 2 2 2 2 2 2 2 2 2 2 2\n",
      " 2 2 2 2 2 2 2 2 2 2 2 2 2 2 2 2 2 2 2 2 2 2 2 2 2 2 2 2 2 2 2 2 2 2 2 2 2\n",
      " 2 2 2 2 2 2 2 2 2 2 2 2 2 2 2]\n",
      "[0 0 0 0 0 0 0 0 0 0 0 0 0 0 0 0 0 0 0 0 0 0 0 0 0 0 0 0 0 0 0 0 0 0 0 0 0\n",
      " 0 0 0 0 0 0 0 0 0 0 0 0 0 0 0 0 0 0 0 0 1 0 1 1 0 1 1 1 1 1 1 1 1 1 1 1 1\n",
      " 1 1 1 1 1 1 1 1 1 1 1 1 1 1 1 1 1 1 1 1 1 1 1 1 1 1 1 1 1 1 1 1 1 1 1 1 1\n",
      " 1 1 1 1 1 1 1 1 1 1 1 1 3 1 3 1 3 2 3 2 3 2 3 2 3 2 3 2 3 2 3 2 3 2 3 2 3\n",
      " 2 3 2 3 2 3 2 3 2 3 2 3 2 3 2 3 2 3 2 3 2 3 2 3 2 3 2 3 2 3 2 3 2 3 2 3 2\n",
      " 3 2 3 2 3 2 3 2 3 2 3 2 3 2 3]\n",
      "[3 3 1 3 1 3 1 3 1 3 1 3 1 3 1 3 1 3 1 3 1 3 1 3 1 3 1 3 1 3 1 3 1 3 1 3 1\n",
      " 3 1 3 1 3 1 3 1 3 1 1 1 1 1 3 1 1 1 1 1 1 1 1 2 2 2 2 2 2 2 2 2 2 2 2 2 2\n",
      " 2 2 2 2 2 2 2 2 2 2 2 2 2 2 2 2 2 2 2 2 2 2 2 2 2 2 2 2 2 2 2 2 2 2 2 2 2\n",
      " 2 2 2 2 2 2 2 2 2 2 2 2 0 2 0 2 0 4 0 4 0 4 0 4 0 4 0 4 0 4 0 4 0 4 0 4 0\n",
      " 4 0 4 0 4 0 4 0 4 0 4 0 4 0 4 0 4 0 4 0 4 0 4 0 4 0 4 0 4 0 4 0 4 0 4 0 4\n",
      " 0 4 0 4 0 4 0 4 0 4 0 4 0 4 0]\n",
      "[5 1 5 1 5 1 5 1 5 1 5 1 5 1 5 1 5 1 5 1 5 1 5 1 5 1 5 1 5 1 5 1 5 1 5 1 5\n",
      " 1 5 1 5 1 5 1 5 1 3 3 3 3 3 3 3 3 3 3 3 3 3 3 3 3 3 3 3 3 3 3 3 3 3 3 3 3\n",
      " 3 3 3 3 3 3 3 3 3 3 3 3 3 0 0 3 3 0 0 0 0 0 0 0 0 0 0 0 0 0 0 0 0 0 0 0 0\n",
      " 0 0 0 0 0 0 0 0 0 0 0 0 0 0 0 0 2 4 0 4 0 0 0 4 2 4 2 4 2 4 2 0 2 4 2 4 2\n",
      " 4 2 4 2 4 2 4 2 4 2 4 2 4 2 4 2 4 2 4 2 4 2 4 2 4 2 4 2 4 2 4 2 4 2 4 2 4\n",
      " 2 4 2 4 2 4 2 4 2 4 2 4 2 4 2]\n",
      "[4 2 4 2 4 2 4 2 4 2 4 2 4 2 4 2 4 2 4 2 4 2 4 2 4 2 4 2 4 2 4 2 4 2 4 2 4\n",
      " 2 4 2 4 2 5 5 4 2 5 5 5 5 5 5 5 5 5 5 5 5 5 5 5 5 5 5 5 5 5 5 5 5 5 5 5 5\n",
      " 5 5 5 5 5 5 5 5 5 5 0 5 5 0 0 0 0 0 0 0 0 0 0 0 0 0 0 0 0 0 0 0 0 0 0 0 0\n",
      " 0 0 0 0 0 0 0 0 0 0 0 0 1 0 1 0 1 3 1 3 1 0 1 3 1 3 1 3 1 3 1 3 1 3 1 3 1\n",
      " 3 1 3 1 3 1 3 1 3 1 3 1 3 1 3 1 3 1 3 1 3 6 3 6 3 6 3 6 3 6 3 6 3 6 3 6 3\n",
      " 6 3 6 3 6 3 6 3 6 3 6 3 6 3 6]\n",
      "[3 5 3 5 3 5 3 5 3 5 3 5 3 5 3 5 3 5 3 5 3 5 3 5 3 5 3 5 3 5 3 5 3 5 3 5 3\n",
      " 5 3 5 3 5 3 5 3 5 0 0 0 0 0 0 0 0 0 0 0 0 0 0 0 0 0 0 0 0 0 0 0 0 0 0 0 0\n",
      " 0 0 0 0 0 0 0 0 0 0 7 0 7 7 7 7 7 7 7 7 7 7 7 7 7 7 7 7 7 7 7 7 7 7 7 7 7\n",
      " 7 7 7 7 7 7 7 7 7 7 7 7 2 6 2 6 2 6 2 6 2 6 2 6 2 6 2 6 2 6 2 6 2 6 2 6 2\n",
      " 6 2 6 2 6 2 6 2 6 2 6 2 6 2 6 2 1 4 1 4 1 4 1 4 1 4 1 4 1 4 1 4 1 4 1 4 1\n",
      " 4 1 4 1 4 1 4 1 4 1 4 1 4 1 4]\n",
      "[3 4 3 4 3 4 3 4 3 4 3 4 3 4 3 4 3 4 3 4 3 4 3 4 3 4 3 4 3 4 3 4 3 4 3 4 3\n",
      " 4 3 4 3 4 3 0 3 0 0 0 0 0 0 0 0 5 5 5 5 5 0 5 5 0 5 5 5 0 5 5 0 0 5 5 5 5\n",
      " 5 0 5 5 0 5 5 5 5 5 0 5 5 6 6 6 5 6 6 6 6 6 6 6 6 6 6 6 6 6 6 6 6 6 6 6 6\n",
      " 6 6 6 6 6 6 6 6 6 6 6 6 1 2 1 6 1 2 1 2 1 2 1 2 1 2 1 2 1 2 1 2 1 2 1 2 1\n",
      " 2 1 2 1 2 1 2 1 2 1 2 1 2 1 2 1 2 1 2 1 7 8 7 8 7 8 7 8 7 8 7 8 7 8 7 8 7\n",
      " 8 7 8 7 8 7 8 7 8 7 8 7 8 7 8]\n",
      "[4 0 4 0 4 0 4 0 4 0 4 0 4 0 4 0 4 0 4 0 4 0 4 0 4 0 4 0 4 0 4 0 4 0 4 0 4\n",
      " 0 4 0 2 0 2 9 4 9 2 9 9 9 2 9 9 2 2 2 2 2 9 2 2 9 2 2 2 9 2 2 9 9 2 2 2 2\n",
      " 2 9 2 2 5 2 2 5 2 2 5 8 8 5 5 8 8 5 8 5 5 5 8 5 8 5 5 8 8 5 8 5 8 8 8 8 8\n",
      " 5 8 5 5 5 8 8 8 8 5 8 8 3 1 3 1 3 1 3 1 3 1 3 1 3 1 3 1 3 1 3 1 3 1 3 1 3\n",
      " 1 3 1 3 1 3 1 3 1 3 1 3 1 3 1 3 7 6 7 6 7 6 7 6 7 6 7 6 7 6 7 6 7 6 7 6 7\n",
      " 6 7 6 7 6 7 6 7 6 7 6 7 6 7 6]\n",
      "[ 2  5  2  5  2  5  2  5  2  5  2  5  2  5  2  5  2  5  2  5  2  5  2  5\n",
      "  2  5  2  5  2  5  2  5  2  5  2  5  2  5  2  5  2  5  3  3  2  3  3  3\n",
      "  3  3  3  3  3 10  3  3  3 10  3 10 10  3 10 10 10  3  3 10  3  3 10 10\n",
      " 10 10 10  0 10 10  0 10 10 10 10 10  0 10 10  0  0 10 10  0  8  0  0  0\n",
      "  8  0  8  0  0  8  8  0  8  0  8  8  8  8  8  0  8  0  0  0  8  8  8  8\n",
      "  0  8  8  4  6  4  8  4  6  4  6  4  6  4  6  4  6  4  6  4  6  4  6  4\n",
      "  6  4  6  4  6  4  6  4  6  4  6  4  6  4  6  4  9  4  6  4  9  4  9  4\n",
      "  9  7  9  7  9  7  9  7  9  7  9  7  1  7  9  7  1  7  1  7  1  7  1  7\n",
      "  1  7  1  7  1  7  1  7]\n",
      "[ 8  5  8  5  8  5  8  5  8  5  8  5  8  5  8  5  8  5  8  5  8  5  8  5\n",
      "  8  5  8  5  8  5  8  5  8  5  8  5  8  5  8  5  4  5  4  1  4  1  4  1\n",
      "  1  1  4  1  1  4  4  4  4  4  1  4  4  1  4  4  4  1  1  4  1  1  7  7\n",
      "  7  7  7  1  7  7  0  7  7  7  7  7  0  7  7  0  0  7  7  0  7  7  0  0\n",
      " 11  0 11  0  0 11 11  0 11  0 11 11 11 11 11  0 11  0  0  0 11 11 11 11\n",
      "  0 11 11  6  9  6 11  6  9  6  9  6  9  6  9  6  9  6  9  6  9  6  9  6\n",
      "  9  6  9  6  9  6  9  6  9  6  9  6  9  6  9  6  2  6  9  6  2  3  2  3\n",
      "  2  3  2  3  2  3  2  3  2  3  2  3  2  3  2  3 10  3 10  3 10  3 10  3\n",
      " 10  3 10  3 10  3 10  3]\n",
      "[11  6 11  6 11  6 11  6  4  6  4  6  4  6 11  6 11  6  4  6 11  6  4  6\n",
      "  4  6  4  6  4  6  4  6  4  6  4  6  4  6  4  6  7  6  7  1  4  1  7  1\n",
      "  1  1  7  1  1  7  7  7  7  7  1  7  7  1  7  7  7  1  7  7  1  8  7  8\n",
      "  7  7  7  8  8  8  8  8  8  8  7  8  8  8  8  8  8  8  9  0  8  8  8  0\n",
      "  9  0  9  0  0  9  9  0  9  0  9  9  9  9  9  0  0  0  0  0  9  9  9  9\n",
      "  0  0  0  5  0  5  0  5  3  5  3  5  0  5  3  5  3  5  3  5  3  5  3  5\n",
      "  3  5  3  5  3  5  3  5  3  5  3  5  3  5  3  5  3 10  3 10  3 10  3 10\n",
      "  3 10  3 10  3 10 12 10 12 10 12 10 12 10 12 10 12 10 12  2 12  2 12  2\n",
      " 12  2 12  2 12  2 12  2]\n",
      "[ 3  3  8  3  3  3  8  3  8  3  8 12  8  3  8  3  8  3  8 12  8  3  8  3\n",
      "  8 12  8  3  8 12  8 12  8 12  8 12  8 12  8 12  1 12  1 13  1 13  1 13\n",
      " 13 13  1 13 13  1  1  1  1  1 13  1  1 13  1  1  1 13  5  1 13 13  1  5\n",
      "  5  5  5 13  5  5 13  5  5  5  5  5 10  5  5 10  5  5  5 10  5  5 10 10\n",
      "  5 10  2 10 10  2  2 10  2 10  2  2  2  2  2 10  2 10 10 10  2  2  2  2\n",
      " 10  2  2  7  4  7  4  7  4  7  4  7  4  7  4  7  4  7  4  7  4  7  4  7\n",
      "  4  7  4  7  4  7  6  7  6  9  6  9  6  9  6  9  6  9  6  9  6  9  6  9\n",
      "  6  9  6  9  6  9  6  9  6  9  6  9 11  0 11  0 11  0 11  0 11  0 11  0\n",
      " 11  0 11  0 11  0 11  0]\n",
      "[ 2  4  2  4  2  4  2  4  6  4  6  4  6  4  2  4  2  4  6  4  2  4  6  4\n",
      "  6  4  6  4  6  4  6  4  6  4  6  4  6  4  6  4 12  4 12  8  6  8 12  8\n",
      "  8  8 12  8  8 12 12 12 12 12  8 12 12  8 12 12 12  8  0 12  8  8 12  0\n",
      " 12 12  0  0  0  0  0  0  0  0  0  0  5  0  0  5  0  0 10  5  0  0  5  5\n",
      "  0  5 10  5  5 10 10  5 10  5 10 10 10 10 10  5  5  5  5  5 10 10 10 10\n",
      "  5 13  7  7 13  7 13  7 13  7 13  7 13  7 13  7 13  7 13  7 13 14 13 14\n",
      " 13 14 13 14 13 14  1 14  1 14  1 14  1 14  1 14  1 14  1 14  1  3  1  3\n",
      "  1  3  1  3  1  3  1  3  1  3  1  3 11  3 11  3 11  3 11  9 11  9 11  9\n",
      " 11  9 11  9 11  9 11  9]\n",
      "[11 10 11 10 11 10 11 10  0 10  0 10  0 10 11 10 11 10 11 10 11 14  0 14\n",
      "  0 14  9 14  9 14  0 14  0 14  9 14  9 14  9 14  9 14  9  2  9  2  2  2\n",
      "  2  2  2  2  2  7  7  7  7  7  2  7  7 15  7  7  7 15  7  7 15 15  7  7\n",
      "  7  7  7 15  7 15 15  7  7 15  7  7 15  4  4 15 15  4  4  1  4  4  1  1\n",
      "  4  1  4  1  1  4  4  1  4  1  4  4  4  4  4  1  1  1  1  1  4  4  4  4\n",
      "  1  1  1 13 12 13 12 13 12 13 12 13 12 13 12 13 12 13 12 13 12 13 12 13\n",
      " 12 13 12 13 12 13 12  6 12  6  5  6  5  6  5  6  5  6  5  6  5  6  5  6\n",
      "  5  6  5  6  5  6  5  6  5  6  5  3  8  3  8  3  8  3  8  3  8  3  8  3\n",
      "  8  3  8  3  8  3  8  3]\n",
      "[14  0 14  0 14  0 13  0 13  0 13  0 13  0 13  0 14  0 13  0 14  0 13 16\n",
      " 13 16 14 16 14 16  3 16  3 16  3 16  3 16  3 16  3 16  6  6  3 16  6  6\n",
      "  6  6  6  6  6 11  6  6  6 11  7 11 11  7 11 11 11  7  6 11  7  7 11 15\n",
      " 11 11 11  7 15 15  7 15 15 15 11 15  7 15 15  7 15 15  2 10 15 15 10 10\n",
      " 15 10  2 10 10  2  2 10  2 10  2  2  2  2  2 10 10 10 10 10  2  2  2  2\n",
      " 10 10 10  9 10  9 10  9  5  9  5  9 10  9  5  9  5  9  5  9  5  9  5  9\n",
      "  5  9  5  9  5  9  5  4  5  4  5  4  5  4  5  4 12  4  5  4 12  4 12  4\n",
      " 12  4 12  4 12  4 12  4 12  4 12  8 12  8 12  8 12  8 12  8  1  8  1  8\n",
      "  1  8  1  8  1  8  1  8]\n",
      "[ 3  9  8  9  3  9  8  9  8  9  8  9  8  9  8  9  3  9 12  9  3 15  8 15\n",
      " 12 15 12 15 12 15 12 15 12 15 12 15 12 15 12 15 12 15 12  6 12  6  6  6\n",
      "  6  6  6  6  6 13 13  6 13 13  6 13 13  0 13 13 13  0 13 13  0  0 13 13\n",
      " 13 13 13  0  4  4  0  4  4  4  4  4  0  4  4  0  4  4  4  2  4  4  2  2\n",
      "  4  2  4  2  2 16 16  2 16  2 16 16 16 16 16  2  2  2  2  2 16 16 16 16\n",
      "  2 10 16 14 10 14 10 14 11 14 11 14 10 14 10 14 11 14 10 14 11 14 10 14\n",
      " 11 14 11 14 11 14 11  7 11  7 11  7 11  7 11  7 11  7 11  7  5  7  5  7\n",
      "  5  7  5  7  5  7  5  7  5  7  5  1  5  1  5  1  5  1  5  1  5  1  5  1\n",
      " 17  1 17  1 17  1 17  1]\n",
      "[10  4 10  4 10  4 10  4  6  4  6  4  6  4 10  4 10  4  6  4 10  4  6  4\n",
      "  6 14  6 14  6 14  6 14  6 14  6 14  6 14  6 14  0 14  0 14  6 14  0  9\n",
      "  9  9  0  9  9  0  0  0  0  0  9  0  0  9  0  0  0  9  0  0  9  9  0  5\n",
      "  0  0  5  9  5  5  9  5  5  5  5  5  2  5  5  2  5  5  5  2  5  5  2  2\n",
      "  5  2  5  2  2 12 12  2 12  2 12 12 12 12 12  2  2  2  2  2 12 12 12 12\n",
      "  2 18 15 15 18 15 18 15 13 15 13 15 18 15 18 15 13 15 18 15 13  3 18  3\n",
      " 17  3 13  3 17  3 17  3 17  3 17  3 17  3 17  3  1  3 17  3  1  8  1  8\n",
      "  1  8  1  8  1  8  1  8  1  8  1  8 16  8 16  8 16  8 16  8 16  8 16  8\n",
      " 11  7 11  7 11  7 11  7]\n",
      "[14 11 14 11 14 11  5 11  5 11  5 11  5 11  5 11 14 11  5 11 14 11  5 11\n",
      "  5  8 18  1 18  8  5  8  5  8 18  8 18  8 18  8 18  8 18  1 18  1 15  1\n",
      "  1  1 15  1  1 15 15 15 15 15 17 15 15 17 15 15 15 17  4 15 17 17 15  4\n",
      "  4  4  4 17  4  4 17  4  4  4  4  4 17  4  4 10 10  4  4 10  4 10 10 10\n",
      "  9 10  9 10 10  9  9 10  9 10  9  9  9  9  9 10 10 10 10 10  9  9  9  9\n",
      " 10  0  9  2  0  2  0  2 13  2 13  2  0  2  6  2 13  2  6  2 13  2  0  2\n",
      "  6  2  0  2  6  2  6  2  6  7  6  7  6  7  6  7 16  7  6  7 16  7 16  7\n",
      " 16  7 16  7 16  7 16  7 16  7 16 19 16 19 16 19  3 19  3 19  3 19  3 19\n",
      "  3 19  3 12  3 12  3 12]\n",
      "[ 2 10  2 10  2 10  8 10  8 10  8 10  8 10  8 10  2 10  8 10  2 10  8 10\n",
      "  8  6 20  6 20  6  8  6  8  6 20  6 20  6 20  6 20  6 20 15 20 15  5 15\n",
      " 15 15  5 15 15  5  5  5  5  5 15  5  5 15  5  5  5  0  5  5  0  0  5 13\n",
      " 13 13 13  0 13 13  0 13 13  0 13 13  0 13 13  0  0 13 13 14 13 14 14 14\n",
      "  7 14  7 14 14  7  7 14  7 14  7  7  7  7  7 14 14 14 14 14  7  7  7  7\n",
      " 14 11  4  4 11  4 11  4 16  4 16  4 11  4 16  4 16  4 16  4 16 17 11 17\n",
      " 16 17 11 17 16 17 16 17 16 17 16 17 16 17 16 17  3 17 16 17  3 19  3  9\n",
      "  3 19  3 19  3  9  3  9  3 19  3  9 18  9 18  9 18  9 18 19 18  9 18 19\n",
      " 12  1 12  1 12  1 12  1]\n"
     ]
    },
    {
     "name": "stdout",
     "output_type": "stream",
     "text": [
      "[16 10 20 10 16 10 20 10  6 10  6 10  6 10 20 10 16 10 16 10 16 10  6  3\n",
      "  6  3 16  3 16  3  6  3  6  3  6  3  6  3 16  3  1  3  1  3  1  3  1  1\n",
      "  1  1  1  1  1 13  1  1  1 13 12  1 13 12 13 13 13 12  1 13 12 12 13  4\n",
      " 13 13 13 12  4  4 12  4  4  4 13  4 11  4  4 11 11  4  4 11  4  4 11 11\n",
      "  4 11  4 11 11 15 15 19 15 19 15 15 15 15 15 19 19 19 19 19 15 15 15 15\n",
      " 19 21  9  9 21  9 21  9  2  9  2  9 21  9 18  9  2  9 18  9  2  0 21  0\n",
      " 18  0 17  0 17  0 17  0 17  0 17  0 18  0 18  0 17  0 18  0 17 14 17 14\n",
      " 17 14  5 14  5 14  5 14  5 14  5 14  5 14  5 14  5 14  5 14  5  8  7  8\n",
      "  7  8  7  8  7  8  7  8]\n",
      "[17 18 15 18 17 18 15 18 20 18 20 18 20 18 15 18 17 18  1 18 17  4 20  4\n",
      " 20  4  1  4  1  4 20  4 20  4  1  4  1  4  1  4  1  4  1 12  1 12 10 12\n",
      " 12 12 10 12 12 10 10 10 10 13 12 10 13 12 13 10 13 21 10 13 21 21 13  2\n",
      " 13 13 13 21  2  2 21  2  2  2 13  2 21  2  2 21 21  2 22 11  2  2 11 11\n",
      "  2 11 22 11 11 22 22 11 22 11 22 22 22 22 22 11  8 11 11 11 22  8  8  8\n",
      " 11  8  8  5  0  5  8  5 16  5 16  5  0  5  0  5 16  5  0  5 16  7  0  7\n",
      "  0  7  0  7  0  7  9  7  9  7  9  7  9  7  9  7  9  7  9  7  9 14  9 14\n",
      "  9 14  9 14  9 14  9 14  9 14 19 14 19 14 19 14 19 14 19  3 19  3 19  3\n",
      "  6  3  6  3  6  3  6  3]\n",
      "[16  2 16  2  4  2 16  2 17  2 17  2 17  2 16  2  4 13  4  2  4 13 17 13\n",
      " 17 13  4 13  4 11 17 13 17 11 17 11 17 13  4 11  8 11  8 12  8 12  8 12\n",
      " 12 12  8 12 12  8  8  8  8 19 12  8 19 12 19 19 19 12  8 19  1  1 19 19\n",
      " 19 19 19  1 10  1  1 10 10  1 19 10  1 10 10  1  1 10 22 21 10 10 21 21\n",
      " 10 21 10 21 21 10 22 21 22 21 22 22 22 22 22 21  7 21 21 21 22  7  7  7\n",
      "  7  7  7 14 20 14  7 14 15 14 15 14 20 14  9 14 15 14  9 14 15  3 20  3\n",
      "  9  3 20  3  9  3 18  3 18  3 18  3  9  3  9  3 18  3  9  3 18 23 18 23\n",
      " 18 23 18 23 18 23  5 23  5 23  5 23  5 23  5 23  5 23  5  6  5  6  0  6\n",
      "  0  6  0  6  0  6  0  6]\n",
      "[12  0 21  0 12  0 21 17  4  0  4 17  4  0 21  0 22  0 22 17 22  0  4  0\n",
      "  4 24 22  0 22 24  4 24  4 24  4 24 22 24 22 24  9 24  9  5  9  5  9  5\n",
      "  5  5  9  5  5  9  9  9  9 15  5  9 15  5 15 15 15  5  9 15  5  5 15  2\n",
      " 15 15 15 13  2  2 13  2  2  2 15  2 13  2  2 13 13  2 18 13  2  2 13 13\n",
      "  2 13  2 13 10 18 18 10 18 10 18 18 18 18 18 10 10 10 10 10 18 18 18 18\n",
      " 10 14  6  6 14  6 14  6 19  6 19  6 14  6  7  6 19  6  7  6 19 16 14 16\n",
      "  7 16 14 16  7 16 19 16 19 16 19 16  7 16  7 16  1 16  7 16  1  3  1 20\n",
      "  1  3  1  3  1 20  1 20  1  3  1 20  8 20  8 20  8 20  8  3  8 20  8  3\n",
      "  8 11 23 11 23 11 23 11]\n",
      "[ 8  3  8  3 21  3  8 25 23  3 23 25 23  3  8  3 21  3 21 25 21  3 23  3\n",
      " 23 13 21  3 21 13 23 13 23 13  1 13  1 13  1 13  1 13  1 22  1 22 11 22\n",
      " 22 22 11 22 22 11 11 11 11 11  9 11 11  9 11 11 11  9 11 11  9 14 11 11\n",
      " 11 11 11 14  5 14 14  5  5 14  5  5 14  5  5 14 14  5 19 16  5  5 16 16\n",
      "  5 16  5 16 16 19 19 16 19 16 19 19 19 19 19 16 18 16 16 16 19 18 18 18\n",
      " 18 18 18  2 10  2 18  2  4  2  4  2 10  2 24  2  4  2 24  2  4 20 10 20\n",
      " 24 20  4 20  4 20  4 20  4 20  4 20 24 20 24 20  4 20 24 20 17  0 17  7\n",
      " 17  0 17  0 17  7 17  7 17  0 17  7  6  7 17  7  6  7  6  0  6  7  6 12\n",
      " 15 12 15 12 15 12 15 12]\n",
      "[19 24 19 24 19 24 19 24  5  4  5 24  5  4 19  4 19  4 15 24 19  4  5  4\n",
      "  5  4 15  4 15 17  5 17  5 17 15 17 15 17 15 17 15 17 15 23 15 23  1 23\n",
      " 23 23  1 23 23  1  1  1  1 20 23  1 20 10 20  1 20 10  1 20 10 10 20  1\n",
      " 20 20 20 10 13 13 10 13 13 13 13 13  2 13 13  2  2 13 13  2 13 13  2  2\n",
      " 13  2 13  2  2  7  7  2  7 22  7  7  7  7  7 22 16 22 22 22  7  7  7  7\n",
      " 22 16 16  0 16 21 16  0 25 21 25 21 16 21  9  0 25 21  9 21 25  0 16  0\n",
      "  9  0 14 18 14  0 14  0 14 18 14 18  9 18  9 18 14 18  9  6  3 18  3  6\n",
      "  3 18  3 18  3  6  3  6  3  8  3  6 12  6 12  6 12  6 12  8 12  8 12  8\n",
      " 11 26 11 26 11 26 11 26]\n",
      "[21  0  6  0 21  0  6  0 16  0 16  0 16  0  6  0 21  0 16  0 21  0 16  0\n",
      " 16 13 23  0 23 13 16 13 16 13 23 13 23 13 23 13  4 13  4 18  4 18 25 18\n",
      " 18 18 25 18 18 25 25 25 25  9 18 25  9  8  9 25  9  8 25  9  8  8  9 25\n",
      "  9  9  9  8  2  2  8  2  2  2  9  2 26  2  2 26 26  2 17 26  2  2 26 26\n",
      "  2 26  2 26 26  2 17 26 10 19 17 17 17 17 17 19 19 19 19 19 17 10 10 10\n",
      " 19  7 10 12  7 12  7 12 20 12 20 12  7 12 24 12 20 12 24 12 20 12  7 12\n",
      " 24 12 14  3 14  3 14  3 14  3 14  3 24  3 24  3 14  3 24  3  1  3  1  3\n",
      "  1  3  1  3  1 15 27 15 27 15 27 15 22 15 27 15 22 15 27 15 22 15 22 15\n",
      " 11  5 11  5 11  5 11  5]\n",
      "[19  9 26  9 19  9 26  9  6  9  6  9  6  9 26  9 19  9  6  3 19  3 22  3\n",
      " 22  3 15 21 15  3 22  3 22  3 22  3 15  3 15  3 15  3 15 21 15 21  0 21\n",
      " 21 21  0 21 21  0  0  0  0 20 28  0 20 28 20 20 20 28  0 20 28  8 20  0\n",
      " 20 20 16  8  8  8  8 14 16  8 16 14  8 14 16 10  8 14 16 10 14 14 10 10\n",
      " 14 10 14 10 10 14  7 10  7 10  7  7  7  7  7 24 24 24 24 24  7  7  7  7\n",
      " 24  2 24 13  2 13  2 13 23 13 23 13  2 13 27 13 23 13 27 13 23  5  2  5\n",
      " 27  5 11  5 11  5 11  5 11  5 11  5 27  5 27 17 11  5 27  5  4 17  4 25\n",
      "  4 17  4 17  4 25  4 25  4 17  4 25 18 25 18 25 18 25 18  1 18 25 18  1\n",
      " 18  1 12  1 12  1 12  1]\n",
      "{1: 975512.06, 2: 387065.7137713771, 3: 271384.50878286804, 4: 195401.19855991466, 5: 157190.64179487174, 6: 122637.55796110156, 7: 103243.95067993601, 8: 86184.70447202174, 9: 77493.06424816302, 10: 69148.62503996977, 11: 64688.148390120565, 12: 59758.46222519311, 13: 56088.079171705496, 14: 52136.86370932989, 15: 49270.1694434951, 16: 46122.23796620047, 17: 43935.13982143588, 18: 41233.01248334999, 19: 40218.679715386956, 20: 36777.37920608802, 21: 34965.65119047619, 22: 34157.97673160174, 23: 31813.452822177824, 24: 31310.75984848485, 25: 29424.958127983136, 26: 28804.335317460318, 27: 27139.605555555554, 28: 26406.15412087912, 29: 25187.78499278499}\n"
     ]
    }
   ],
   "source": [
    "sse = {}\n",
    "for k in range(1, 30):\n",
    "    kmeans = KMeans(n_clusters=k, max_iter=2000).fit(data)\n",
    "    elbow_prediction = kmeans.labels_\n",
    "    print(elbow_prediction)\n",
    "    sse[k] = kmeans.inertia_\n",
    "print(sse)"
   ]
  },
  {
   "cell_type": "code",
   "execution_count": 32,
   "id": "766240b2",
   "metadata": {},
   "outputs": [
    {
     "data": {
      "image/png": "[encoded data removed]",
      "text/plain": [
       "<Figure size 640x480 with 1 Axes>"
      ]
     },
     "metadata": {},
     "output_type": "display_data"
    }
   ],
   "source": [
    "plt.figure()\n",
    "plt.plot(list(sse.keys()), list(sse.values()))\n",
    "plt.xlabel(\"Number of clusters\")\n",
    "plt.ylabel(\"SSE\")\n",
    "plt.show()"
   ]
  },
  {
   "cell_type": "code",
   "execution_count": null,
   "id": "89b5979c",
   "metadata": {},
   "outputs": [],
   "source": []
  }
 ],
 "metadata": {
  "kernelspec": {
   "display_name": "Python 3 (ipykernel)",
   "language": "python",
   "name": "python3"
  },
  "language_info": {
   "codemirror_mode": {
    "name": "ipython",
    "version": 3
   },
   "file_extension": ".py",
   "mimetype": "text/x-python",
   "name": "python",
   "nbconvert_exporter": "python",
   "pygments_lexer": "ipython3",
   "version": "3.10.0"
  }
 },
 "nbformat": 4,
 "nbformat_minor": 5
}
