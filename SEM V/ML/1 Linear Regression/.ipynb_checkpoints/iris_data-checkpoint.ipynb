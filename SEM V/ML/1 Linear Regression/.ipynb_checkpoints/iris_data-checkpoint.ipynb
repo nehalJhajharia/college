{
 "cells": [
  {
   "cell_type": "code",
   "execution_count": 1,
   "id": "50425af5",
   "metadata": {},
   "outputs": [
    {
     "ename": "ModuleNotFoundError",
     "evalue": "No module named 'pandas'",
     "output_type": "error",
     "traceback": [
      "\u001b[0;31m---------------------------------------------------------------------------\u001b[0m",
      "\u001b[0;31mModuleNotFoundError\u001b[0m                       Traceback (most recent call last)",
      "Input \u001b[0;32mIn [1]\u001b[0m, in \u001b[0;36m<cell line: 1>\u001b[0;34m()\u001b[0m\n\u001b[0;32m----> 1\u001b[0m \u001b[38;5;28;01mimport\u001b[39;00m \u001b[38;5;21;01mpandas\u001b[39;00m \u001b[38;5;28;01mas\u001b[39;00m \u001b[38;5;21;01mpd\u001b[39;00m\n\u001b[1;32m      2\u001b[0m \u001b[38;5;28;01mimport\u001b[39;00m \u001b[38;5;21;01mnumpy\u001b[39;00m \u001b[38;5;28;01mas\u001b[39;00m \u001b[38;5;21;01mnp\u001b[39;00m\n\u001b[1;32m      3\u001b[0m \u001b[38;5;28;01mimport\u001b[39;00m \u001b[38;5;21;01mmatplotlib\u001b[39;00m\u001b[38;5;21;01m.\u001b[39;00m\u001b[38;5;21;01mpyplot\u001b[39;00m \u001b[38;5;28;01mas\u001b[39;00m \u001b[38;5;21;01mplt\u001b[39;00m\n",
      "\u001b[0;31mModuleNotFoundError\u001b[0m: No module named 'pandas'"
     ]
    }
   ],
   "source": [
    "import pandas as pd\n",
    "import numpy as np\n",
    "import matplotlib.pyplot as plt\n",
    "from sklearn import datasets, linear_model\n",
    "from sklearn.metrics import mean_squared_error, r2_score\n",
    "%matplotlib inline\n",
    "pd.pandas.set_option('display.max_columns', None);"
   ]
  },
  {
   "cell_type": "code",
   "execution_count": null,
   "id": "a9f5d2ab",
   "metadata": {},
   "outputs": [],
   "source": [
    "df = pd.read_csv('iris.csv')\n",
    "df.head()\n"
   ]
  },
  {
   "cell_type": "code",
   "execution_count": 8,
   "id": "dcb50ea3",
   "metadata": {},
   "outputs": [
    {
     "data": {
      "text/plain": [
       "(150, 5)"
      ]
     },
     "execution_count": 8,
     "metadata": {},
     "output_type": "execute_result"
    }
   ],
   "source": [
    "df.shape"
   ]
  },
  {
   "cell_type": "code",
   "execution_count": 9,
   "id": "cb894599",
   "metadata": {},
   "outputs": [
    {
     "data": {
      "text/plain": [
       "{'setosa', 'versicolor', 'virginica'}"
      ]
     },
     "execution_count": 9,
     "metadata": {},
     "output_type": "execute_result"
    }
   ],
   "source": [
    "differ_species = [labels for labels in df['Species']]\n",
    "differ_species_set = set(differ_species)\n",
    "differ_species_set"
   ]
  },
  {
   "cell_type": "code",
   "execution_count": null,
   "id": "a397acd5",
   "metadata": {},
   "outputs": [],
   "source": []
  },
  {
   "cell_type": "code",
   "execution_count": null,
   "id": "cef1dfd5",
   "metadata": {},
   "outputs": [],
   "source": []
  },
  {
   "cell_type": "code",
   "execution_count": 10,
   "id": "3ffa79c7",
   "metadata": {},
   "outputs": [
    {
     "name": "stdout",
     "output_type": "stream",
     "text": [
      "     setosa  versicolor  virginica\n",
      "0         1           0          0\n",
      "1         1           0          0\n",
      "2         1           0          0\n",
      "3         1           0          0\n",
      "4         1           0          0\n",
      "..      ...         ...        ...\n",
      "145       0           0          1\n",
      "146       0           0          1\n",
      "147       0           0          1\n",
      "148       0           0          1\n",
      "149       0           0          1\n",
      "\n",
      "[150 rows x 3 columns]\n",
      "   Sepal.Length  Sepal.Width  Petal.Length  Petal.Width\n",
      "0           5.1          3.5           1.4          0.2\n",
      "1           4.9          3.0           1.4          0.2\n",
      "2           4.7          3.2           1.3          0.2\n",
      "3           4.6          3.1           1.5          0.2\n",
      "4           5.0          3.6           1.4          0.2\n"
     ]
    }
   ],
   "source": [
    "# Converting Categorical featues\n",
    "dummies = pd.get_dummies(df.Species)\n",
    "print(dummies)\n",
    "df = df.drop('Species', axis = 1)\n",
    "print(df.head())"
   ]
  },
  {
   "cell_type": "code",
   "execution_count": 11,
   "id": "c5c31c96",
   "metadata": {},
   "outputs": [
    {
     "data": {
      "text/html": [
       "<div>\n",
       "<style scoped>\n",
       "    .dataframe tbody tr th:only-of-type {\n",
       "        vertical-align: middle;\n",
       "    }\n",
       "\n",
       "    .dataframe tbody tr th {\n",
       "        vertical-align: top;\n",
       "    }\n",
       "\n",
       "    .dataframe thead th {\n",
       "        text-align: right;\n",
       "    }\n",
       "</style>\n",
       "<table border=\"1\" class=\"dataframe\">\n",
       "  <thead>\n",
       "    <tr style=\"text-align: right;\">\n",
       "      <th></th>\n",
       "      <th>Sepal.Length</th>\n",
       "      <th>Sepal.Width</th>\n",
       "      <th>Petal.Length</th>\n",
       "      <th>Petal.Width</th>\n",
       "      <th>setosa</th>\n",
       "      <th>versicolor</th>\n",
       "      <th>virginica</th>\n",
       "    </tr>\n",
       "  </thead>\n",
       "  <tbody>\n",
       "    <tr>\n",
       "      <th>0</th>\n",
       "      <td>5.1</td>\n",
       "      <td>3.5</td>\n",
       "      <td>1.4</td>\n",
       "      <td>0.2</td>\n",
       "      <td>1</td>\n",
       "      <td>0</td>\n",
       "      <td>0</td>\n",
       "    </tr>\n",
       "    <tr>\n",
       "      <th>1</th>\n",
       "      <td>4.9</td>\n",
       "      <td>3.0</td>\n",
       "      <td>1.4</td>\n",
       "      <td>0.2</td>\n",
       "      <td>1</td>\n",
       "      <td>0</td>\n",
       "      <td>0</td>\n",
       "    </tr>\n",
       "    <tr>\n",
       "      <th>2</th>\n",
       "      <td>4.7</td>\n",
       "      <td>3.2</td>\n",
       "      <td>1.3</td>\n",
       "      <td>0.2</td>\n",
       "      <td>1</td>\n",
       "      <td>0</td>\n",
       "      <td>0</td>\n",
       "    </tr>\n",
       "    <tr>\n",
       "      <th>3</th>\n",
       "      <td>4.6</td>\n",
       "      <td>3.1</td>\n",
       "      <td>1.5</td>\n",
       "      <td>0.2</td>\n",
       "      <td>1</td>\n",
       "      <td>0</td>\n",
       "      <td>0</td>\n",
       "    </tr>\n",
       "    <tr>\n",
       "      <th>4</th>\n",
       "      <td>5.0</td>\n",
       "      <td>3.6</td>\n",
       "      <td>1.4</td>\n",
       "      <td>0.2</td>\n",
       "      <td>1</td>\n",
       "      <td>0</td>\n",
       "      <td>0</td>\n",
       "    </tr>\n",
       "  </tbody>\n",
       "</table>\n",
       "</div>"
      ],
      "text/plain": [
       "   Sepal.Length  Sepal.Width  Petal.Length  Petal.Width  setosa  versicolor  \\\n",
       "0           5.1          3.5           1.4          0.2       1           0   \n",
       "1           4.9          3.0           1.4          0.2       1           0   \n",
       "2           4.7          3.2           1.3          0.2       1           0   \n",
       "3           4.6          3.1           1.5          0.2       1           0   \n",
       "4           5.0          3.6           1.4          0.2       1           0   \n",
       "\n",
       "   virginica  \n",
       "0          0  \n",
       "1          0  \n",
       "2          0  \n",
       "3          0  \n",
       "4          0  "
      ]
     },
     "execution_count": 11,
     "metadata": {},
     "output_type": "execute_result"
    }
   ],
   "source": [
    "# concatenating \n",
    "df = pd.concat([df, dummies], axis = 'columns')\n",
    "df.head()"
   ]
  },
  {
   "cell_type": "code",
   "execution_count": null,
   "id": "71a9b734",
   "metadata": {},
   "outputs": [],
   "source": []
  },
  {
   "cell_type": "code",
   "execution_count": 12,
   "id": "7357ab70",
   "metadata": {},
   "outputs": [
    {
     "name": "stdout",
     "output_type": "stream",
     "text": [
      "     Sepal.Width  Petal.Length  Petal.Width  setosa  versicolor  virginica\n",
      "0            3.5           1.4          0.2       1           0          0\n",
      "1            3.0           1.4          0.2       1           0          0\n",
      "2            3.2           1.3          0.2       1           0          0\n",
      "3            3.1           1.5          0.2       1           0          0\n",
      "4            3.6           1.4          0.2       1           0          0\n",
      "..           ...           ...          ...     ...         ...        ...\n",
      "145          3.0           5.2          2.3       0           0          1\n",
      "146          2.5           5.0          1.9       0           0          1\n",
      "147          3.0           5.2          2.0       0           0          1\n",
      "148          3.4           5.4          2.3       0           0          1\n",
      "149          3.0           5.1          1.8       0           0          1\n",
      "\n",
      "[150 rows x 6 columns]\n",
      "0      5.1\n",
      "1      4.9\n",
      "2      4.7\n",
      "3      4.6\n",
      "4      5.0\n",
      "      ... \n",
      "145    6.7\n",
      "146    6.3\n",
      "147    6.5\n",
      "148    6.2\n",
      "149    5.9\n",
      "Name: Sepal.Length, Length: 150, dtype: float64\n"
     ]
    }
   ],
   "source": [
    "# datasets into features and targets\n",
    "y = df['Sepal.Length']\n",
    "x = df.drop('Sepal.Length', axis = 1)\n",
    "print(x)\n",
    "print(y)"
   ]
  },
  {
   "cell_type": "code",
   "execution_count": 13,
   "id": "5dc23532",
   "metadata": {},
   "outputs": [],
   "source": [
    "# Checking MultiCollinearity for independent variables or features"
   ]
  },
  {
   "cell_type": "code",
   "execution_count": 14,
   "id": "c777d592",
   "metadata": {},
   "outputs": [
    {
     "name": "stdout",
     "output_type": "stream",
     "text": [
      "              Sepal.Width  Petal.Length  Petal.Width    setosa  versicolor  \\\n",
      "Sepal.Width      1.000000     -0.428440    -0.366126  0.603348   -0.467703   \n",
      "Petal.Length    -0.428440      1.000000     0.962865 -0.922765    0.201754   \n",
      "Petal.Width     -0.366126      0.962865     1.000000 -0.887344    0.117899   \n",
      "setosa           0.603348     -0.922765    -0.887344  1.000000   -0.500000   \n",
      "versicolor      -0.467703      0.201754     0.117899 -0.500000    1.000000   \n",
      "virginica       -0.135645      0.721011     0.769445 -0.500000   -0.500000   \n",
      "\n",
      "              virginica  \n",
      "Sepal.Width   -0.135645  \n",
      "Petal.Length   0.721011  \n",
      "Petal.Width    0.769445  \n",
      "setosa        -0.500000  \n",
      "versicolor    -0.500000  \n",
      "virginica      1.000000  \n"
     ]
    }
   ],
   "source": [
    "# Collinearity Using Correlation Matrix and scatter plot\n",
    "print(x.corr())\n"
   ]
  },
  {
   "cell_type": "code",
   "execution_count": null,
   "id": "340b3ca9",
   "metadata": {},
   "outputs": [],
   "source": []
  },
  {
   "cell_type": "code",
   "execution_count": null,
   "id": "7b1aff71",
   "metadata": {},
   "outputs": [],
   "source": []
  },
  {
   "cell_type": "code",
   "execution_count": 34,
   "id": "25b9b302",
   "metadata": {},
   "outputs": [],
   "source": [
    "x_train = x[:-30]\n",
    "y_train = y[:-30]\n",
    "x_test = x[-30:]\n",
    "y_test = y[-30:]"
   ]
  },
  {
   "cell_type": "code",
   "execution_count": 35,
   "id": "a070af2a",
   "metadata": {},
   "outputs": [
    {
     "name": "stdout",
     "output_type": "stream",
     "text": [
      "     Sepal.Width  Petal.Length  Petal.Width  setosa  versicolor  virginica\n",
      "0            3.5           1.4          0.2       1           0          0\n",
      "1            3.0           1.4          0.2       1           0          0\n",
      "2            3.2           1.3          0.2       1           0          0\n",
      "3            3.1           1.5          0.2       1           0          0\n",
      "4            3.6           1.4          0.2       1           0          0\n",
      "..           ...           ...          ...     ...         ...        ...\n",
      "115          3.2           5.3          2.3       0           0          1\n",
      "116          3.0           5.5          1.8       0           0          1\n",
      "117          3.8           6.7          2.2       0           0          1\n",
      "118          2.6           6.9          2.3       0           0          1\n",
      "119          2.2           5.0          1.5       0           0          1\n",
      "\n",
      "[120 rows x 6 columns]\n",
      "0      5.1\n",
      "1      4.9\n",
      "2      4.7\n",
      "3      4.6\n",
      "4      5.0\n",
      "      ... \n",
      "115    6.4\n",
      "116    6.5\n",
      "117    7.7\n",
      "118    7.7\n",
      "119    6.0\n",
      "Name: Sepal.Length, Length: 120, dtype: float64\n"
     ]
    }
   ],
   "source": [
    "print(x_train)\n",
    "print(y_train)"
   ]
  },
  {
   "cell_type": "code",
   "execution_count": null,
   "id": "5b72b83d",
   "metadata": {},
   "outputs": [],
   "source": [
    "\n"
   ]
  },
  {
   "cell_type": "code",
   "execution_count": 36,
   "id": "274e0146",
   "metadata": {},
   "outputs": [],
   "source": [
    "# Create linear regression object\n",
    "regr = linear_model.LinearRegression()"
   ]
  },
  {
   "cell_type": "code",
   "execution_count": 37,
   "id": "a64c1e9f",
   "metadata": {},
   "outputs": [
    {
     "data": {
      "text/plain": [
       "LinearRegression()"
      ]
     },
     "execution_count": 37,
     "metadata": {},
     "output_type": "execute_result"
    }
   ],
   "source": [
    "# Train the model using the training sets\n",
    "regr.fit(x_train, y_train)"
   ]
  },
  {
   "cell_type": "code",
   "execution_count": 38,
   "id": "8c889343",
   "metadata": {},
   "outputs": [
    {
     "name": "stdout",
     "output_type": "stream",
     "text": [
      "[6.62156637 5.88017774 7.40097968 5.92571784 6.77413593 7.12267043\n",
      " 5.89474357 6.08626202 6.4220733  6.94571782 6.94357312 7.68265994\n",
      " 6.37254589 6.2967928  6.66173575 6.85249291 6.59457941 6.64671072\n",
      " 6.00177302 6.41363949 6.43403524 6.06111767 6.04516842 6.79054437\n",
      " 6.57602627 6.09209194 5.85364998 6.24067418 6.47512883 6.25524001]\n",
      "120    6.9\n",
      "121    5.6\n",
      "122    7.7\n",
      "123    6.3\n",
      "124    6.7\n",
      "125    7.2\n",
      "126    6.2\n",
      "127    6.1\n",
      "128    6.4\n",
      "129    7.2\n",
      "130    7.4\n",
      "131    7.9\n",
      "132    6.4\n",
      "133    6.3\n",
      "134    6.1\n",
      "135    7.7\n",
      "136    6.3\n",
      "137    6.4\n",
      "138    6.0\n",
      "139    6.9\n",
      "140    6.7\n",
      "141    6.9\n",
      "142    5.8\n",
      "143    6.8\n",
      "144    6.7\n",
      "145    6.7\n",
      "146    6.3\n",
      "147    6.5\n",
      "148    6.2\n",
      "149    5.9\n",
      "Name: Sepal.Length, dtype: float64\n"
     ]
    }
   ],
   "source": [
    "predictions = regr.predict(x_test)\n",
    "print(predictions)\n",
    "print(y_test)"
   ]
  },
  {
   "cell_type": "code",
   "execution_count": 39,
   "id": "30288942",
   "metadata": {},
   "outputs": [
    {
     "name": "stdout",
     "output_type": "stream",
     "text": [
      "Mean Squared Error 0.13059338330166229\n"
     ]
    }
   ],
   "source": [
    "print(\"Mean Squared Error\", mean_squared_error(y_test, predictions))"
   ]
  },
  {
   "cell_type": "code",
   "execution_count": 40,
   "id": "a8bd9e61",
   "metadata": {},
   "outputs": [
    {
     "name": "stdout",
     "output_type": "stream",
     "text": [
      "Coefficient of Determination 0.5926876733729691\n"
     ]
    }
   ],
   "source": [
    "# Coefficient of predictions if 1 then perfect model\n",
    "print(\"Coefficient of Determination\", r2_score(y_test, predictions))"
   ]
  },
  {
   "cell_type": "code",
   "execution_count": null,
   "id": "1cae8481",
   "metadata": {},
   "outputs": [],
   "source": []
  }
 ],
 "metadata": {
  "kernelspec": {
   "display_name": "Python 3 (ipykernel)",
   "language": "python",
   "name": "python3"
  },
  "language_info": {
   "codemirror_mode": {
    "name": "ipython",
    "version": 3
   },
   "file_extension": ".py",
   "mimetype": "text/x-python",
   "name": "python",
   "nbconvert_exporter": "python",
   "pygments_lexer": "ipython3",
   "version": "3.10.0"
  }
 },
 "nbformat": 4,
 "nbformat_minor": 5
}
